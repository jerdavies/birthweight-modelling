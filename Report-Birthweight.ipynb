{
 "cells": [
  {
   "cell_type": "markdown",
   "metadata": {},
   "source": [
    "# Mothers’ Lifestyle Characteristics Impact on Infant Birth Weight"
   ]
  },
  {
   "cell_type": "markdown",
   "metadata": {},
   "source": [
    "Team B1: Ayingfu (#82951880), Bryant Hartono (#66162710), Jeremy Davies (#74883935), Jingxuan Ma (#49183288)"
   ]
  },
  {
   "cell_type": "markdown",
   "metadata": {},
   "source": [
    "## 1. Introduction"
   ]
  },
  {
   "cell_type": "markdown",
   "metadata": {},
   "source": [
    "#### 1.1 Data Source"
   ]
  },
  {
   "cell_type": "markdown",
   "metadata": {},
   "source": [
    "The dataset for this project is the “birthwt” dataset provided with the Support Functions and Datasets for Venables and Ripley's MASS package in R."
   ]
  },
  {
   "cell_type": "markdown",
   "metadata": {},
   "source": [
    "Relevant citation for the MASS package:  \n",
    "Venables WN, Ripley BD (2002). Modern Applied Statistics with S, Fourth edition. Springer, New York. ISBN 0-387-95457-0, https://www.stats.ox.ac.uk/pub/MASS4/."
   ]
  },
  {
   "cell_type": "markdown",
   "metadata": {},
   "source": [
    "#### 1.2 Dataset Description"
   ]
  },
  {
   "cell_type": "markdown",
   "metadata": {},
   "source": [
    "**Dataset detail**  \n",
    "The dataset consists of 189 observations with 10 columns (refer to column details explained below). Data was collected at Baystate Medical Center, Springfield, Massachusetts during 1986, with no specific setting. Study subjects were 189 mothers, 59 of which had low birth weight babies and 130 of which had normal birth weight babies. Characteristics of the mother’s lifestyle and health factors were collected during the pregnancy and the weight of the newborn infant was recorded at birth."
   ]
  },
  {
   "cell_type": "markdown",
   "metadata": {},
   "source": [
    "**Response variable**  \n",
    "Neonate birth weight (‘bwt’), measured in grams."
   ]
  },
  {
   "cell_type": "markdown",
   "metadata": {},
   "source": [
    "**Potential explanatory variables**  \n",
    "1) Continuous variables  \n",
    "- age: Mother’s age (years)\n",
    "- lwt: Mother's weight (pounds) at last menstrual period\n",
    "- ptl: Number of previous premature labors\n",
    "- ftv: Number of physician visits during the first trimester  \n",
    "  \n",
    "2) Categorical variables  \n",
    "- race: Mother's race ( “1” = white, “2” = black, “3” = other) \n",
    "- smoke: Smoking status during the pregnancy. (“1”=Yes,”0”= No)\n",
    "- ht: History of hypertension. (“1”=Yes,”0”= No)\n",
    "- ui: Presence of uterine irritability. (“1”=Yes,”0”= No)"
   ]
  },
  {
   "cell_type": "markdown",
   "metadata": {},
   "source": [
    "#### 1.3 Research Question / Motivation"
   ]
  },
  {
   "cell_type": "markdown",
   "metadata": {},
   "source": [
    "There is some evidence (and some speculation) to suggest that heavier babies have lower infant mortality rates and perhaps also lower risk of cardiovascular disease later in life. Therefore, our group is interested in studying the factors that explain an infant’s birth weight. In particular, we are interested in whether the weight of the mother, the mother’s race, the smoking status of the mother, among other variables, affect the infant birth weight.  \n",
    "  \n",
    "If we can identify the contributing factors and reasonably predict a baby’s neonate birth weight, this would enable better preparation of healthcare at birth. For example, if we develop a model that predicts a baby will have a low birth weight, then the obstetrician could recommend for the mother to have the birth at a dedicated neonatal ward, where there are more specialized resources to ensure a healthy birth."
   ]
  },
  {
   "cell_type": "markdown",
   "metadata": {},
   "source": [
    "## 2. Analysis"
   ]
  },
  {
   "cell_type": "markdown",
   "metadata": {},
   "source": [
    "#### 2.1 Reading in data"
   ]
  },
  {
   "cell_type": "code",
   "execution_count": 1,
   "metadata": {},
   "outputs": [
    {
     "name": "stderr",
     "output_type": "stream",
     "text": [
      "-- \u001b[1mAttaching packages\u001b[22m ------------------------------------------------------------------------------- tidyverse 1.3.1 --\n",
      "\n",
      "\u001b[32mv\u001b[39m \u001b[34mggplot2\u001b[39m 3.3.5     \u001b[32mv\u001b[39m \u001b[34mpurrr  \u001b[39m 0.3.4\n",
      "\u001b[32mv\u001b[39m \u001b[34mtibble \u001b[39m 3.1.0     \u001b[32mv\u001b[39m \u001b[34mdplyr  \u001b[39m 1.0.5\n",
      "\u001b[32mv\u001b[39m \u001b[34mtidyr  \u001b[39m 1.1.3     \u001b[32mv\u001b[39m \u001b[34mstringr\u001b[39m 1.4.0\n",
      "\u001b[32mv\u001b[39m \u001b[34mreadr  \u001b[39m 1.4.0     \u001b[32mv\u001b[39m \u001b[34mforcats\u001b[39m 0.5.1\n",
      "\n",
      "-- \u001b[1mConflicts\u001b[22m ---------------------------------------------------------------------------------- tidyverse_conflicts() --\n",
      "\u001b[31mx\u001b[39m \u001b[34mdplyr\u001b[39m::\u001b[32mfilter()\u001b[39m masks \u001b[34mstats\u001b[39m::filter()\n",
      "\u001b[31mx\u001b[39m \u001b[34mdplyr\u001b[39m::\u001b[32mlag()\u001b[39m    masks \u001b[34mstats\u001b[39m::lag()\n",
      "\n",
      "Registered S3 method overwritten by 'tune':\n",
      "  method                   from   \n",
      "  required_pkgs.model_spec parsnip\n",
      "\n",
      "-- \u001b[1mAttaching packages\u001b[22m ------------------------------------------------------------------------------ tidymodels 0.1.2 --\n",
      "\n",
      "\u001b[32mv\u001b[39m \u001b[34mbroom    \u001b[39m 0.7.12     \u001b[32mv\u001b[39m \u001b[34mrecipes  \u001b[39m 0.1.15\n",
      "\u001b[32mv\u001b[39m \u001b[34mdials    \u001b[39m 0.1.0      \u001b[32mv\u001b[39m \u001b[34mrsample  \u001b[39m 0.1.1 \n",
      "\u001b[32mv\u001b[39m \u001b[34minfer    \u001b[39m 1.0.0      \u001b[32mv\u001b[39m \u001b[34mtune     \u001b[39m 0.1.3 \n",
      "\u001b[32mv\u001b[39m \u001b[34mmodeldata\u001b[39m 0.1.1      \u001b[32mv\u001b[39m \u001b[34mworkflows\u001b[39m 0.2.2 \n",
      "\u001b[32mv\u001b[39m \u001b[34mparsnip  \u001b[39m 0.2.1      \u001b[32mv\u001b[39m \u001b[34myardstick\u001b[39m 0.0.8 \n",
      "\n",
      "-- \u001b[1mConflicts\u001b[22m --------------------------------------------------------------------------------- tidymodels_conflicts() --\n",
      "\u001b[31mx\u001b[39m \u001b[34mscales\u001b[39m::\u001b[32mdiscard()\u001b[39m masks \u001b[34mpurrr\u001b[39m::discard()\n",
      "\u001b[31mx\u001b[39m \u001b[34mdplyr\u001b[39m::\u001b[32mfilter()\u001b[39m   masks \u001b[34mstats\u001b[39m::filter()\n",
      "\u001b[31mx\u001b[39m \u001b[34mrecipes\u001b[39m::\u001b[32mfixed()\u001b[39m  masks \u001b[34mstringr\u001b[39m::fixed()\n",
      "\u001b[31mx\u001b[39m \u001b[34mdplyr\u001b[39m::\u001b[32mlag()\u001b[39m      masks \u001b[34mstats\u001b[39m::lag()\n",
      "\u001b[31mx\u001b[39m \u001b[34myardstick\u001b[39m::\u001b[32mspec()\u001b[39m masks \u001b[34mreadr\u001b[39m::spec()\n",
      "\u001b[31mx\u001b[39m \u001b[34mrecipes\u001b[39m::\u001b[32mstep()\u001b[39m   masks \u001b[34mstats\u001b[39m::step()\n",
      "\u001b[31mx\u001b[39m \u001b[34mtune\u001b[39m::\u001b[32mtune()\u001b[39m      masks \u001b[34mparsnip\u001b[39m::tune()\n",
      "\n",
      "\n",
      "Attaching package: 'MASS'\n",
      "\n",
      "\n",
      "The following object is masked from 'package:dplyr':\n",
      "\n",
      "    select\n",
      "\n",
      "\n",
      "Registered S3 method overwritten by 'GGally':\n",
      "  method from   \n",
      "  +.gg   ggplot2\n",
      "\n"
     ]
    }
   ],
   "source": [
    "# Necessary libraries to install:\n",
    "# - 'tidyverse', 'cowplot' , 'tidymodels', 'repr', 'MASS', 'leaps', 'GGally'\n",
    "  \n",
    "# Load in libaries\n",
    "library(tidyverse)\n",
    "library(cowplot)\n",
    "library(tidymodels)\n",
    "library(repr)\n",
    "library(MASS)\n",
    "library(GGally)\n",
    "library(leaps)\n",
    "\n",
    "\n",
    "# Suppress table outputs to a manageable # of rows\n",
    "options(repr.matrix.max.rows = 10)\n",
    "\n",
    "# Read data\n",
    "raw_data <- birthwt"
   ]
  },
  {
   "cell_type": "markdown",
   "metadata": {},
   "source": [
    "#### 2.2 Clean and wrangle data"
   ]
  },
  {
   "cell_type": "code",
   "execution_count": 2,
   "metadata": {},
   "outputs": [
    {
     "data": {
      "text/html": [
       "<table class=\"dataframe\">\n",
       "<caption>A data.frame: 5 × 9</caption>\n",
       "<thead>\n",
       "\t<tr><th></th><th scope=col>age</th><th scope=col>lwt</th><th scope=col>ptl</th><th scope=col>ftv</th><th scope=col>race</th><th scope=col>smoke</th><th scope=col>ht</th><th scope=col>ui</th><th scope=col>bwt</th></tr>\n",
       "\t<tr><th></th><th scope=col>&lt;int&gt;</th><th scope=col>&lt;int&gt;</th><th scope=col>&lt;int&gt;</th><th scope=col>&lt;int&gt;</th><th scope=col>&lt;fct&gt;</th><th scope=col>&lt;fct&gt;</th><th scope=col>&lt;fct&gt;</th><th scope=col>&lt;fct&gt;</th><th scope=col>&lt;int&gt;</th></tr>\n",
       "</thead>\n",
       "<tbody>\n",
       "\t<tr><th scope=row>85</th><td>19</td><td>182</td><td>0</td><td>0</td><td>Black</td><td>No </td><td>No</td><td>Yes</td><td>2523</td></tr>\n",
       "\t<tr><th scope=row>86</th><td>33</td><td>155</td><td>0</td><td>3</td><td>Other</td><td>No </td><td>No</td><td>No </td><td>2551</td></tr>\n",
       "\t<tr><th scope=row>87</th><td>20</td><td>105</td><td>0</td><td>1</td><td>White</td><td>Yes</td><td>No</td><td>No </td><td>2557</td></tr>\n",
       "\t<tr><th scope=row>88</th><td>21</td><td>108</td><td>0</td><td>2</td><td>White</td><td>Yes</td><td>No</td><td>Yes</td><td>2594</td></tr>\n",
       "\t<tr><th scope=row>89</th><td>18</td><td>107</td><td>0</td><td>0</td><td>White</td><td>Yes</td><td>No</td><td>Yes</td><td>2600</td></tr>\n",
       "</tbody>\n",
       "</table>\n"
      ],
      "text/latex": [
       "A data.frame: 5 × 9\n",
       "\\begin{tabular}{r|lllllllll}\n",
       "  & age & lwt & ptl & ftv & race & smoke & ht & ui & bwt\\\\\n",
       "  & <int> & <int> & <int> & <int> & <fct> & <fct> & <fct> & <fct> & <int>\\\\\n",
       "\\hline\n",
       "\t85 & 19 & 182 & 0 & 0 & Black & No  & No & Yes & 2523\\\\\n",
       "\t86 & 33 & 155 & 0 & 3 & Other & No  & No & No  & 2551\\\\\n",
       "\t87 & 20 & 105 & 0 & 1 & White & Yes & No & No  & 2557\\\\\n",
       "\t88 & 21 & 108 & 0 & 2 & White & Yes & No & Yes & 2594\\\\\n",
       "\t89 & 18 & 107 & 0 & 0 & White & Yes & No & Yes & 2600\\\\\n",
       "\\end{tabular}\n"
      ],
      "text/markdown": [
       "\n",
       "A data.frame: 5 × 9\n",
       "\n",
       "| <!--/--> | age &lt;int&gt; | lwt &lt;int&gt; | ptl &lt;int&gt; | ftv &lt;int&gt; | race &lt;fct&gt; | smoke &lt;fct&gt; | ht &lt;fct&gt; | ui &lt;fct&gt; | bwt &lt;int&gt; |\n",
       "|---|---|---|---|---|---|---|---|---|---|\n",
       "| 85 | 19 | 182 | 0 | 0 | Black | No  | No | Yes | 2523 |\n",
       "| 86 | 33 | 155 | 0 | 3 | Other | No  | No | No  | 2551 |\n",
       "| 87 | 20 | 105 | 0 | 1 | White | Yes | No | No  | 2557 |\n",
       "| 88 | 21 | 108 | 0 | 2 | White | Yes | No | Yes | 2594 |\n",
       "| 89 | 18 | 107 | 0 | 0 | White | Yes | No | Yes | 2600 |\n",
       "\n"
      ],
      "text/plain": [
       "   age lwt ptl ftv race  smoke ht ui  bwt \n",
       "85 19  182 0   0   Black No    No Yes 2523\n",
       "86 33  155 0   3   Other No    No No  2551\n",
       "87 20  105 0   1   White Yes   No No  2557\n",
       "88 21  108 0   2   White Yes   No Yes 2594\n",
       "89 18  107 0   0   White Yes   No Yes 2600"
      ]
     },
     "metadata": {},
     "output_type": "display_data"
    }
   ],
   "source": [
    "# Select only potentially meaningful columns (variables) and re-name categorical levels for easier understanding\n",
    "data_bwt <- raw_data %>%\n",
    "    dplyr::select(age, lwt, ptl, ftv, race, smoke, ht, ui, bwt) %>%\n",
    "    mutate(race = case_when(\n",
    "      race == 1  ~ \"White\",\n",
    "      race == 2  ~ \"Black\",\n",
    "      TRUE       ~ \"Other\"\n",
    "    ), \n",
    "    smoke = case_when(smoke == 0  ~ \"No\", smoke == 1  ~ \"Yes\"), \n",
    "    ht = case_when(ht == 0  ~ \"No\", ht == 1  ~ \"Yes\"),\n",
    "    ui = case_when(ui == 0  ~ \"No\", ui == 1  ~ \"Yes\")\n",
    ")\n",
    "\n",
    "# Convert categorical variables to factors in R\n",
    "data_bwt$race <- as.factor(data_bwt$race)\n",
    "data_bwt$smoke <- as.factor(data_bwt$smoke)\n",
    "data_bwt$ht <- as.factor(data_bwt$ht)\n",
    "data_bwt$ui <- as.factor(data_bwt$ui)\n",
    "\n",
    "#  relevel race based on highest observation count\n",
    "data_bwt$race <- relevel(data_bwt$race, ref=\"White\")  \n",
    "\n",
    "# Inspect clean dataframe\n",
    "head(data_bwt,5)"
   ]
  },
  {
   "cell_type": "markdown",
   "metadata": {},
   "source": [
    "#### 2.3 Tabular Summary of Data"
   ]
  },
  {
   "cell_type": "code",
   "execution_count": 3,
   "metadata": {},
   "outputs": [
    {
     "data": {
      "text/plain": [
       "      age             lwt             ptl              ftv            race   \n",
       " Min.   :14.00   Min.   : 80.0   Min.   :0.0000   Min.   :0.0000   White:96  \n",
       " 1st Qu.:19.00   1st Qu.:110.0   1st Qu.:0.0000   1st Qu.:0.0000   Black:26  \n",
       " Median :23.00   Median :121.0   Median :0.0000   Median :0.0000   Other:67  \n",
       " Mean   :23.24   Mean   :129.8   Mean   :0.1958   Mean   :0.7937             \n",
       " 3rd Qu.:26.00   3rd Qu.:140.0   3rd Qu.:0.0000   3rd Qu.:1.0000             \n",
       " Max.   :45.00   Max.   :250.0   Max.   :3.0000   Max.   :6.0000             \n",
       " smoke       ht        ui           bwt      \n",
       " No :115   No :177   No :161   Min.   : 709  \n",
       " Yes: 74   Yes: 12   Yes: 28   1st Qu.:2414  \n",
       "                               Median :2977  \n",
       "                               Mean   :2945  \n",
       "                               3rd Qu.:3487  \n",
       "                               Max.   :4990  "
      ]
     },
     "metadata": {},
     "output_type": "display_data"
    }
   ],
   "source": [
    "summary(data_bwt)"
   ]
  },
  {
   "cell_type": "markdown",
   "metadata": {},
   "source": [
    "#### 2.4 Visual Summary of Data"
   ]
  },
  {
   "cell_type": "markdown",
   "metadata": {},
   "source": [
    "##### 2.4.1 Scatterplot grid for numeric variables vs. birthweight"
   ]
  },
  {
   "cell_type": "code",
   "execution_count": 4,
   "metadata": {},
   "outputs": [
    {
     "data": {
      "image/png": "[encoded data removed]",
      "text/plain": [
       "plot without title"
      ]
     },
     "metadata": {
      "image/png": {
       "height": 720,
       "width": 720
      }
     },
     "output_type": "display_data"
    }
   ],
   "source": [
    "# Set plot output size\n",
    "options(repr.plot.width = 12, repr.plot.height = 12)\n",
    "\n",
    "# Get df with only the numeric variables (exclude factor vars for now)\n",
    "data_bwt_numeric <- data_bwt %>%\n",
    "    dplyr::select(bwt, age, lwt, ptl, ftv)\n",
    "    \n",
    "\n",
    "# Construct visual correlation matrix of only numeric variables\n",
    "# PURPOSE: Explore correlations between explanatory variables themselves and with response variable bwt (birthweight)\n",
    "ggpairs(data_bwt_numeric,\n",
    "        title = \"Visual Correlation Matrix\",\n",
    "         upper = list(continuous = wrap(\"cor\", size = 8)))  +\n",
    "theme(text = element_text(size=12))"
   ]
  },
  {
   "cell_type": "markdown",
   "metadata": {},
   "source": [
    "**Comments**  \n",
    "- The baby's birth weight has a weak, positive correlation with with the mother's weight at the last menstrual period (r=0.18). This makes intuitive sense because we would expect on average that mothers of larger stature tend to have larger newborn babies.\n",
    "- The baby's birth weight has a weak, positive correlation with the mother's age (r=0.09).\n",
    "- The baby's birth weight has a weak, negative correlation with the number of previous premature labours (r=-0.155). This indicates that a mother who was prone to premature labours in the past may be prone to it again.\n",
    "- We also remark the presence of collinearity between explantory variables of mother's age and # of physician visits in the first trimester (r=0.215), and the mother's age and her weight (r=0.18). We will bear these trends in mind when fitting linear models in later sections of this report. \n",
    "  \n",
    "Note: The diagonal terms of the above chart represent a distribution of each respective numeric variable."
   ]
  },
  {
   "cell_type": "markdown",
   "metadata": {},
   "source": [
    "##### 2.4.1 Comparing baby birthweight by category"
   ]
  },
  {
   "cell_type": "markdown",
   "metadata": {},
   "source": [
    "TODO: In one chart (look up arranging multiple plots on a page), produce boxplots showing btw against the various levels of the categorical variables.  There should be box plots for race, smoke, ht, ui"
   ]
  },
  {
   "cell_type": "code",
   "execution_count": 5,
   "metadata": {},
   "outputs": [
    {
     "data": {
      "image/png": "[encoded data removed]",
      "text/plain": [
       "plot without title"
      ]
     },
     "metadata": {
      "image/png": {
       "height": 720,
       "width": 720
      }
     },
     "output_type": "display_data"
    }
   ],
   "source": [
    "# Set plot output size\n",
    "options(repr.plot.width = 12, repr.plot.height = 12)\n",
    "\n",
    "# Get df with only the categorical variables\n",
    "data_bwt_categorical <- data_bwt %>%\n",
    "    dplyr::select(bwt,race, smoke, ht, ui)\n",
    "    \n",
    "\n",
    "# Construct boxplots showing btw against the various levels of the categorical variables\n",
    "# PURPOSE: Explore distributions of various levels of different categorical explanatory variables\n",
    "\n",
    "p_race <- data_bwt_categorical%>%\n",
    "     ggplot(aes(x=race, y=bwt)) + \n",
    "             geom_boxplot()\n",
    "p_smoke<- data_bwt_categorical%>%\n",
    "     ggplot(aes(x=smoke, y=bwt)) + \n",
    "             geom_boxplot()\n",
    "p_ht<- data_bwt_categorical%>%\n",
    "     ggplot(aes(x=ht, y=bwt)) + \n",
    "             geom_boxplot()\n",
    "p_ui<- data_bwt_categorical%>%\n",
    "     ggplot(aes(x=ui, y=bwt)) + \n",
    "             geom_boxplot()\n",
    "plot_grid(p_race,p_smoke,p_ht,p_ui)\n"
   ]
  },
  {
   "cell_type": "markdown",
   "metadata": {},
   "source": [
    "**Comments**   \n",
    "- The baby's mean birth weights are equal among mothers who are black and other races, while white mothers' baby have mean birth weight about 100g higher than others. Both black and other races mothers have several babies with extrem low birth weight show as outilers in the boxplots and the ranges are narrower comparing to babies from white mothers with about half of the spread.\n",
    "- Mothers with no history of hypertension have babies with about 300 grams higher mean birth weights and the range is doubled comparing to mothers with history of hypertension.\n",
    "- Mothers with no presence of uterine irritability have babies with about 500 grams higher mean birth weights and wider spread than mothers with presence of uterine irritability.\n",
    "- Mothers who do not smoke during the pregnancy have babies with about 500 grams higher mean birth weights and wider spread than mothers who smoke during the pregnancy."
   ]
  },
  {
   "cell_type": "markdown",
   "metadata": {},
   "source": [
    "#### 2.5 Model Selection"
   ]
  },
  {
   "cell_type": "markdown",
   "metadata": {},
   "source": [
    "Model selection using best subsets method and validation set approach (test/train split)."
   ]
  },
  {
   "cell_type": "code",
   "execution_count": 6,
   "metadata": {},
   "outputs": [
    {
     "data": {
      "text/plain": [
       "Subset selection object\n",
       "Call: regsubsets.formula(bwt ~ ., data = data_bwt, method = \"exhaustive\")\n",
       "9 Variables  (and intercept)\n",
       "          Forced in Forced out\n",
       "age           FALSE      FALSE\n",
       "lwt           FALSE      FALSE\n",
       "ptl           FALSE      FALSE\n",
       "ftv           FALSE      FALSE\n",
       "raceBlack     FALSE      FALSE\n",
       "raceOther     FALSE      FALSE\n",
       "smokeYes      FALSE      FALSE\n",
       "htYes         FALSE      FALSE\n",
       "uiYes         FALSE      FALSE\n",
       "1 subsets of each size up to 8\n",
       "Selection Algorithm: exhaustive\n",
       "         age lwt ptl ftv raceBlack raceOther smokeYes htYes uiYes\n",
       "1  ( 1 ) \" \" \" \" \" \" \" \" \" \"       \" \"       \" \"      \" \"   \"*\"  \n",
       "2  ( 1 ) \" \" \" \" \" \" \" \" \" \"       \" \"       \" \"      \"*\"   \"*\"  \n",
       "3  ( 1 ) \" \" \"*\" \" \" \" \" \" \"       \" \"       \" \"      \"*\"   \"*\"  \n",
       "4  ( 1 ) \" \" \" \" \" \" \" \" \"*\"       \"*\"       \"*\"      \" \"   \"*\"  \n",
       "5  ( 1 ) \" \" \" \" \" \" \" \" \"*\"       \"*\"       \"*\"      \"*\"   \"*\"  \n",
       "6  ( 1 ) \" \" \"*\" \" \" \" \" \"*\"       \"*\"       \"*\"      \"*\"   \"*\"  \n",
       "7  ( 1 ) \" \" \"*\" \"*\" \" \" \"*\"       \"*\"       \"*\"      \"*\"   \"*\"  \n",
       "8  ( 1 ) \"*\" \"*\" \"*\" \" \" \"*\"       \"*\"       \"*\"      \"*\"   \"*\"  "
      ]
     },
     "metadata": {},
     "output_type": "display_data"
    },
    {
     "data": {
      "text/html": [
       "<table class=\"dataframe\">\n",
       "<caption>A data.frame: 8 × 3</caption>\n",
       "<thead>\n",
       "\t<tr><th scope=col>R^2</th><th scope=col>Adjusted R^2</th><th scope=col>Cp</th></tr>\n",
       "\t<tr><th scope=col>&lt;dbl&gt;</th><th scope=col>&lt;dbl&gt;</th><th scope=col>&lt;dbl&gt;</th></tr>\n",
       "</thead>\n",
       "<tbody>\n",
       "\t<tr><td>0.08061477</td><td>0.07569828</td><td>32.324944</td></tr>\n",
       "\t<tr><td>0.11225032</td><td>0.10270463</td><td>26.846910</td></tr>\n",
       "\t<tr><td>0.14782772</td><td>0.13400871</td><td>20.437098</td></tr>\n",
       "\t<tr><td>0.18905712</td><td>0.17142793</td><td>12.691264</td></tr>\n",
       "\t<tr><td>0.21364404</td><td>0.19215891</td><td> 8.879389</td></tr>\n",
       "\t<tr><td>0.24039446</td><td>0.21535251</td><td> 4.556107</td></tr>\n",
       "\t<tr><td>0.24156847</td><td>0.21223686</td><td> 6.278594</td></tr>\n",
       "\t<tr><td>0.24235985</td><td>0.20868696</td><td> 8.091525</td></tr>\n",
       "</tbody>\n",
       "</table>\n"
      ],
      "text/latex": [
       "A data.frame: 8 × 3\n",
       "\\begin{tabular}{lll}\n",
       " R\\textasciicircum{}2 & Adjusted R\\textasciicircum{}2 & Cp\\\\\n",
       " <dbl> & <dbl> & <dbl>\\\\\n",
       "\\hline\n",
       "\t 0.08061477 & 0.07569828 & 32.324944\\\\\n",
       "\t 0.11225032 & 0.10270463 & 26.846910\\\\\n",
       "\t 0.14782772 & 0.13400871 & 20.437098\\\\\n",
       "\t 0.18905712 & 0.17142793 & 12.691264\\\\\n",
       "\t 0.21364404 & 0.19215891 &  8.879389\\\\\n",
       "\t 0.24039446 & 0.21535251 &  4.556107\\\\\n",
       "\t 0.24156847 & 0.21223686 &  6.278594\\\\\n",
       "\t 0.24235985 & 0.20868696 &  8.091525\\\\\n",
       "\\end{tabular}\n"
      ],
      "text/markdown": [
       "\n",
       "A data.frame: 8 × 3\n",
       "\n",
       "| R^2 &lt;dbl&gt; | Adjusted R^2 &lt;dbl&gt; | Cp &lt;dbl&gt; |\n",
       "|---|---|---|\n",
       "| 0.08061477 | 0.07569828 | 32.324944 |\n",
       "| 0.11225032 | 0.10270463 | 26.846910 |\n",
       "| 0.14782772 | 0.13400871 | 20.437098 |\n",
       "| 0.18905712 | 0.17142793 | 12.691264 |\n",
       "| 0.21364404 | 0.19215891 |  8.879389 |\n",
       "| 0.24039446 | 0.21535251 |  4.556107 |\n",
       "| 0.24156847 | 0.21223686 |  6.278594 |\n",
       "| 0.24235985 | 0.20868696 |  8.091525 |\n",
       "\n"
      ],
      "text/plain": [
       "  R^2        Adjusted R^2 Cp       \n",
       "1 0.08061477 0.07569828   32.324944\n",
       "2 0.11225032 0.10270463   26.846910\n",
       "3 0.14782772 0.13400871   20.437098\n",
       "4 0.18905712 0.17142793   12.691264\n",
       "5 0.21364404 0.19215891    8.879389\n",
       "6 0.24039446 0.21535251    4.556107\n",
       "7 0.24156847 0.21223686    6.278594\n",
       "8 0.24235985 0.20868696    8.091525"
      ]
     },
     "metadata": {},
     "output_type": "display_data"
    }
   ],
   "source": [
    "#Compute the best subset selection.\n",
    "#PURPOSE: Use best subset selection to find the best model with different number of variables.\n",
    "model_selection<- regsubsets(bwt~., data=data_bwt, method=\"exhaustive\")\n",
    "summary_selection <- summary(model_selection)\n",
    "summary_selection\n",
    "#Compute values of each selection statistic for the best models with different number of variables.\n",
    "#PURPOSE: Select the best model over all possible models based on R^2, Adjusted R^2, and Cp criteria.\n",
    "selection_statistic<-data.frame(summary_selection$rsq,summary_selection$adjr2,summary_selection$cp)\n",
    "\n",
    "names(selection_statistic)[names(selection_statistic) == \"summary_selection.adjr2\"] <- \"Adjusted R^2\"\n",
    "names(selection_statistic)[names(selection_statistic) == \"summary_selection.cp\"] <- \"Cp\"\n",
    "names(selection_statistic)[names(selection_statistic) == \"summary_selection.rsq\"] <- \"R^2\"\n",
    "selection_statistic\n"
   ]
  },
  {
   "cell_type": "markdown",
   "metadata": {},
   "source": [
    "**Comment**\n",
    "- The selection statistics indicate that the model with 5 predictors, **lwt, race, smoke, ui, and ht** has the largest adjusted R^2, the smallest Cp statistic and relatively large R^2. Also, R^2 almost stop to increase from this model."
   ]
  },
  {
   "cell_type": "code",
   "execution_count": 7,
   "metadata": {},
   "outputs": [
    {
     "data": {
      "text/html": [
       "684199.454144176"
      ],
      "text/latex": [
       "684199.454144176"
      ],
      "text/markdown": [
       "684199.454144176"
      ],
      "text/plain": [
       "[1] 684199.5"
      ]
     },
     "metadata": {},
     "output_type": "display_data"
    },
    {
     "data": {
      "text/html": [
       "681045.19707827"
      ],
      "text/latex": [
       "681045.19707827"
      ],
      "text/markdown": [
       "681045.19707827"
      ],
      "text/plain": [
       "[1] 681045.2"
      ]
     },
     "metadata": {},
     "output_type": "display_data"
    }
   ],
   "source": [
    "\n",
    "#PURPOSE: Use 2-fold cross validation to compare the model with and without the numerical variable, lwt\n",
    "#Compute the 2-fold cross validation error of the model contains race, smoke, ui, and ht as predictors\n",
    "train <- 1:as.integer(dim(data_bwt)[1]/2)\n",
    "reg1 <- lm(bwt~race+smoke+ui+ht, data=data_bwt[train,])\n",
    "error1 <- sum((data_bwt$bwt[-train] - predict(reg1, data_bwt[-train,]))^2)\n",
    "reg2 <- lm(bwt~race+smoke+ui+ht, data=data_bwt[-train,])\n",
    "error2 <- sum((data_bwt$bwt[train] - predict(reg2, data_bwt[train,]))^2)\n",
    "error_without_lwt <- (error1 + error2)/dim(data_bwt)[1]\n",
    "error_without_lwt\n",
    "#Compute the 2-fold cross validation error of the model contains lwt, race, smoke, ui, and ht as predictors\n",
    "reg11 <- lm(bwt~lwt+race+smoke+ui+ht, data=data_bwt[train,])\n",
    "error11 <- sum((data_bwt$bwt[-train] - predict(reg11, data_bwt[-train,]))^2)\n",
    "reg22 <- lm(bwt~lwt+race+smoke+ui+ht, data=data_bwt[-train,])\n",
    "error22 <- sum((data_bwt$bwt[train] - predict(reg22, data_bwt[train,]))^2)\n",
    "error_with_lwt <- (error11 + error22)/dim(data_bwt)[1]\n",
    "error_with_lwt\n",
    "\n"
   ]
  },
  {
   "cell_type": "markdown",
   "metadata": {},
   "source": [
    "**Comments**\n",
    "- 2-fold cross validation are used to compare the top two models indicted by the selection statistics which are the model with lwt, race, smoke, ui, and ht as predictors versus the model contains race, smoke, ui, and ht as predictors. The results shows that the model with lwt has a smaller error than the one without.\n",
    "\n",
    "- We believe the mother’s weight is an important variable to include and is a low barrier measurement for hospitals to obtain that can help in predicting baby birth weight and were surprised that mothers age wasn’t a significant predictor.\n",
    "\n",
    "- Therefore, we select this model with one numerical variable **lwt** and four categorical variables **race, smoke, ui, and ht** as our model to predict the baby's birth weight."
   ]
  },
  {
   "cell_type": "code",
   "execution_count": 8,
   "metadata": {},
   "outputs": [
    {
     "data": {
      "text/plain": [
       "\n",
       "Call:\n",
       "lm(formula = bwt ~ lwt + race + smoke + ui + ht, data = data_bwt)\n",
       "\n",
       "Residuals:\n",
       "     Min       1Q   Median       3Q      Max \n",
       "-1842.14  -433.19    67.09   459.21  1631.03 \n",
       "\n",
       "Coefficients:\n",
       "            Estimate Std. Error t value Pr(>|t|)    \n",
       "(Intercept) 2837.264    243.676  11.644  < 2e-16 ***\n",
       "lwt            4.242      1.675   2.532 0.012198 *  \n",
       "raceBlack   -475.058    145.603  -3.263 0.001318 ** \n",
       "raceOther   -348.150    112.361  -3.099 0.002254 ** \n",
       "smokeYes    -356.321    103.444  -3.445 0.000710 ***\n",
       "uiYes       -525.524    134.675  -3.902 0.000134 ***\n",
       "htYes       -585.193    199.644  -2.931 0.003810 ** \n",
       "---\n",
       "Signif. codes:  0 '***' 0.001 '**' 0.01 '*' 0.05 '.' 0.1 ' ' 1\n",
       "\n",
       "Residual standard error: 645.9 on 182 degrees of freedom\n",
       "Multiple R-squared:  0.2404,\tAdjusted R-squared:  0.2154 \n",
       "F-statistic:   9.6 on 6 and 182 DF,  p-value: 3.601e-09\n"
      ]
     },
     "metadata": {},
     "output_type": "display_data"
    }
   ],
   "source": [
    "model<- lm(bwt~lwt+race+smoke+ui+ht, data=data_bwt)\n",
    "summary<-summary(model)\n",
    "summary\n"
   ]
  },
  {
   "cell_type": "markdown",
   "metadata": {},
   "source": [
    "#### 2.6 Residual Plot Analysis"
   ]
  },
  {
   "cell_type": "code",
   "execution_count": 9,
   "metadata": {},
   "outputs": [
    {
     "data": {
      "image/png": "[encoded data removed]",
      "text/plain": [
       "Plot with title \"\""
      ]
     },
     "metadata": {
      "image/png": {
       "height": 720,
       "width": 720
      }
     },
     "output_type": "display_data"
    }
   ],
   "source": [
    "# The \"best\"model from selection\n",
    "par(mfrow = c(2, 2)) \n",
    "model<- lm(bwt~lwt+race+smoke+ui+ht, data=data_bwt)\n",
    "#Histogram\n",
    "r1<-hist(model$residuals,main=\"Histogram of residuals\")\n",
    "#Normality check\n",
    "r2<-plot(model, which = 2)\n",
    "#Residuals vs Fitted Plot\n",
    "r3<-plot(model, which = 1)\n",
    "#Homoscedasticity check\n",
    "r4<-plot(model, which = 3)"
   ]
  },
  {
   "cell_type": "code",
   "execution_count": 10,
   "metadata": {},
   "outputs": [
    {
     "data": {
      "image/png": "[encoded data removed]",
      "text/plain": [
       "plot without title"
      ]
     },
     "metadata": {
      "image/png": {
       "height": 720,
       "width": 720
      }
     },
     "output_type": "display_data"
    }
   ],
   "source": [
    "#Residual against numerical predictor\n",
    "par(mfrow = c(3, 1)) \n",
    "plot(data_bwt$lwt,model$residuals)\n",
    "abline(0,0)\n",
    "#Log transfromation for lwt\n",
    "plot(log(data_bwt$lwt),model$residuals)\n",
    "abline(0,0)\n",
    "#Quadratic transfromation for lwt\n",
    "plot(log((data_bwt$lwt)^2),model$residuals)\n",
    "abline(0,0)"
   ]
  },
  {
   "cell_type": "markdown",
   "metadata": {},
   "source": [
    "**Comments**\n",
    "- **Normality assumption:** The histogram of residuals suggest that residuals follow a normal distribution. We can observed from the Normal Q–Q Plot that residuals follow a almost straight line on this plot,  which is an indicator for normal distribution. And no outliers observed. We may conclude that normality assumption is valid for \"best\" model selected from **2.6**.\n",
    "\n",
    "- **Residuals vs Fitted Plot:** Residuals spread randomly around the 0, which means residuals and fitted values are not correlated. And no any patterns observed from the plot.\n",
    "\n",
    "- **Homoscedasticity:** From Scale-location plot, The Square root of standardized residuals seems to spread equally along the Horizontal line, which indicating a constant variances in the residuals. We may conclude that assumption of equal variance is valid.\n",
    "\n",
    "\n",
    "- **#Residual against numerical predictor:** We noticed that Residual against numerical predictor is not quite randomly distributed. After performing Log and Quadratic transfromation for **lwt**, the plot does not improved much. The result consistent with the Model selection part that mother’s weight is a low barrier measurement for predicting baby birth weight. "
   ]
  },
  {
   "cell_type": "markdown",
   "metadata": {},
   "source": [
    "#### 2.7 Leverage"
   ]
  },
  {
   "cell_type": "code",
   "execution_count": 11,
   "metadata": {},
   "outputs": [
    {
     "data": {
      "text/html": [
       "<table class=\"dataframe\">\n",
       "<caption>A data.frame: 189 × 1</caption>\n",
       "<thead>\n",
       "\t<tr><th></th><th scope=col>hatvalues(model)</th></tr>\n",
       "\t<tr><th></th><th scope=col>&lt;dbl&gt;</th></tr>\n",
       "</thead>\n",
       "<tbody>\n",
       "\t<tr><th scope=row>85</th><td>0.09016420</td></tr>\n",
       "\t<tr><th scope=row>86</th><td>0.02501746</td></tr>\n",
       "\t<tr><th scope=row>87</th><td>0.02105393</td></tr>\n",
       "\t<tr><th scope=row>88</th><td>0.04614246</td></tr>\n",
       "\t<tr><th scope=row>89</th><td>0.04630769</td></tr>\n",
       "\t<tr><th scope=row>⋮</th><td>⋮</td></tr>\n",
       "\t<tr><th scope=row>79</th><td>0.02490693</td></tr>\n",
       "\t<tr><th scope=row>81</th><td>0.02041031</td></tr>\n",
       "\t<tr><th scope=row>82</th><td>0.03758353</td></tr>\n",
       "\t<tr><th scope=row>83</th><td>0.12003917</td></tr>\n",
       "\t<tr><th scope=row>84</th><td>0.09975285</td></tr>\n",
       "</tbody>\n",
       "</table>\n"
      ],
      "text/latex": [
       "A data.frame: 189 × 1\n",
       "\\begin{tabular}{r|l}\n",
       "  & hatvalues(model)\\\\\n",
       "  & <dbl>\\\\\n",
       "\\hline\n",
       "\t85 & 0.09016420\\\\\n",
       "\t86 & 0.02501746\\\\\n",
       "\t87 & 0.02105393\\\\\n",
       "\t88 & 0.04614246\\\\\n",
       "\t89 & 0.04630769\\\\\n",
       "\t⋮ & ⋮\\\\\n",
       "\t79 & 0.02490693\\\\\n",
       "\t81 & 0.02041031\\\\\n",
       "\t82 & 0.03758353\\\\\n",
       "\t83 & 0.12003917\\\\\n",
       "\t84 & 0.09975285\\\\\n",
       "\\end{tabular}\n"
      ],
      "text/markdown": [
       "\n",
       "A data.frame: 189 × 1\n",
       "\n",
       "| <!--/--> | hatvalues(model) &lt;dbl&gt; |\n",
       "|---|---|\n",
       "| 85 | 0.09016420 |\n",
       "| 86 | 0.02501746 |\n",
       "| 87 | 0.02105393 |\n",
       "| 88 | 0.04614246 |\n",
       "| 89 | 0.04630769 |\n",
       "| ⋮ | ⋮ |\n",
       "| 79 | 0.02490693 |\n",
       "| 81 | 0.02041031 |\n",
       "| 82 | 0.03758353 |\n",
       "| 83 | 0.12003917 |\n",
       "| 84 | 0.09975285 |\n",
       "\n"
      ],
      "text/plain": [
       "   hatvalues(model)\n",
       "85 0.09016420      \n",
       "86 0.02501746      \n",
       "87 0.02105393      \n",
       "88 0.04614246      \n",
       "89 0.04630769      \n",
       "<U+22EE>  <U+22EE>        \n",
       "79 0.02490693      \n",
       "81 0.02041031      \n",
       "82 0.03758353      \n",
       "83 0.12003917      \n",
       "84 0.09975285      "
      ]
     },
     "metadata": {},
     "output_type": "display_data"
    },
    {
     "data": {
      "text/html": [
       "<style>\n",
       ".list-inline {list-style: none; margin:0; padding: 0}\n",
       ".list-inline>li {display: inline-block}\n",
       ".list-inline>li:not(:last-child)::after {content: \"\\00b7\"; padding: 0 .5ex}\n",
       "</style>\n",
       "<ol class=list-inline><li>0.158842452916694</li><li>0.14324536819747</li><li>0.138256423324405</li><li>0.120039169522994</li><li>0.119815453831988</li><li>0.114174472419527</li><li>0.111492446627603</li><li>0.107731756076927</li><li>0.102851776676303</li><li>0.101027286577782</li><li>0.099752845803292</li><li>0.097057145152496</li><li>0.0961051175481281</li><li>0.0956115058309208</li><li>0.0901642027227318</li><li>0.0885009662600076</li><li>0.0779991316718123</li><li>0.0674732414826712</li><li>0.0667017296177308</li><li>0.0652202660817423</li><li>0.0639938188147543</li><li>0.0610915163238098</li><li>0.060840554351325</li><li>0.0602446476052566</li><li>0.0590680044073591</li><li>0.0581997664853264</li><li>0.0570856899855964</li><li>0.0569044687495757</li><li>0.0568530738136067</li><li>0.0557419836057061</li><li>0.053596270816962</li><li>0.0534323302237879</li><li>0.0531642578219696</li><li>0.0531642578219696</li><li>0.0529096403214538</li><li>0.0528940577816767</li><li>0.0523123977326624</li><li>0.0522448426840734</li><li>0.0517743398066146</li><li>0.0517743398066146</li><li>0.0511751991596145</li><li>0.0511751991596145</li><li>0.05078123560116</li><li>0.0502211544030665</li><li>0.049339930380367</li><li>0.0488575569008725</li><li>0.0480510930120122</li><li>0.047196627644459</li><li>0.0471777875787024</li><li>0.0467630049282054</li><li>0.0463313848010301</li><li>0.0463076852430257</li><li>0.0462287342162502</li><li>0.0461424550067134</li><li>0.0459114798373688</li><li>0.0458343907890943</li><li>0.0456160830744888</li><li>0.0455504828756355</li><li>0.0455504828756355</li><li>0.045361252842427</li><li>0.0452188579531784</li><li>0.0452086040675827</li><li>0.0445275331690333</li><li>0.0434386489738429</li><li>0.0426275654185244</li><li>0.0405780846455254</li><li>0.0383121459854635</li><li>0.0375880239250506</li><li>0.0375835276550681</li><li>0.0372009016488721</li><li>0.0360079022465401</li><li>0.0354963871516266</li><li>0.0350545653308187</li><li>0.0348345219209482</li><li>0.0288630797160293</li><li>0.0288057301533218</li><li>0.0274545281483819</li><li>0.0273379943024217</li><li>0.0263861360246752</li><li>0.0263861360246752</li><li>0.026325205397101</li><li>0.0260947668550075</li><li>0.0259311119903117</li><li>0.0250614286254924</li><li>0.0250174608041194</li><li>0.0249069337988884</li><li>0.0249069337988884</li><li>0.0243730056115588</li><li>0.0241368181755317</li><li>0.0229167659924187</li><li>0.0229167659924187</li><li>0.0228998692682561</li><li>0.0228998692682561</li><li>0.0228998692682561</li><li>0.0228122458279171</li><li>0.0228122458279171</li><li>0.0224413662396526</li><li>0.0222356938845931</li><li>0.0221706723768559</li><li>0.0220685549486459</li><li>0.0220097102128001</li><li>0.0220097102128001</li><li>0.0219712652963203</li><li>0.0218138710982778</li><li>0.021662919800899</li><li>0.0213403425688671</li><li>0.0213403425688671</li><li>0.0210688019328967</li><li>0.0210539303895077</li><li>0.0210539303895077</li><li>0.0209735401459842</li><li>0.020720339631158</li><li>0.0205660853648633</li><li>0.0204103071663194</li><li>0.0204103071663194</li><li>0.0203658554091103</li><li>0.0201171884020399</li><li>0.0201171884020399</li><li>0.0198894662622248</li><li>0.0198420865848778</li><li>0.0196319874836602</li><li>0.0196319874836602</li><li>0.0196121241540607</li><li>0.0196121241540607</li><li>0.0196121241540607</li><li>0.019564068292414</li><li>0.019564068292414</li><li>0.0195447547175734</li><li>0.0192304067677747</li><li>0.0191573946304386</li><li>0.0191472766524006</li><li>0.0191472766524006</li><li>0.0191472766524006</li><li>0.0189402805557815</li><li>0.0187631696838072</li><li>0.0186799976660715</li><li>0.0186799976660715</li><li>0.0186102805496382</li><li>0.0185882970603508</li><li>0.0185882970603508</li><li>0.0185540183345075</li><li>0.0185112110206792</li><li>0.0184989979710751</li><li>0.0184968544573031</li><li>0.018474530778391</li><li>0.0184659610969301</li><li>0.0184659610969301</li><li>0.0184549660137931</li><li>0.0184549660137931</li><li>0.0183790404647102</li><li>0.0182206186710438</li><li>0.0182206186710438</li><li>0.0182206186710438</li><li>0.0182206186710438</li><li>0.0182063732701778</li><li>0.0181641532323761</li><li>0.0181394292399095</li><li>0.0180565337020331</li><li>0.017885271612659</li><li>0.0178777120712357</li><li>0.0178777120712357</li><li>0.0177972192696511</li><li>0.0177972192696511</li><li>0.0177972192696511</li><li>0.0177972192696511</li><li>0.0176698145077719</li><li>0.0176303332222489</li><li>0.0176303332222489</li><li>0.0176303332222489</li><li>0.017591724442479</li><li>0.0175860480779938</li><li>0.017567860942852</li><li>0.017567860942852</li><li>0.0175091593808467</li><li>0.0174889671888546</li><li>0.0174400492205168</li><li>0.0174154781964741</li><li>0.0174002930866575</li><li>0.0174002930866575</li><li>0.0174002930866575</li><li>0.0173855313719058</li><li>0.0173764203060159</li><li>0.0173764203060159</li><li>0.0173764203060159</li><li>0.0173764203060159</li><li>0.0173660024266767</li><li>0.0173079411858897</li><li>0.0173079411858897</li><li>0.0173079411858897</li></ol>\n"
      ],
      "text/latex": [
       "\\begin{enumerate*}\n",
       "\\item 0.158842452916694\n",
       "\\item 0.14324536819747\n",
       "\\item 0.138256423324405\n",
       "\\item 0.120039169522994\n",
       "\\item 0.119815453831988\n",
       "\\item 0.114174472419527\n",
       "\\item 0.111492446627603\n",
       "\\item 0.107731756076927\n",
       "\\item 0.102851776676303\n",
       "\\item 0.101027286577782\n",
       "\\item 0.099752845803292\n",
       "\\item 0.097057145152496\n",
       "\\item 0.0961051175481281\n",
       "\\item 0.0956115058309208\n",
       "\\item 0.0901642027227318\n",
       "\\item 0.0885009662600076\n",
       "\\item 0.0779991316718123\n",
       "\\item 0.0674732414826712\n",
       "\\item 0.0667017296177308\n",
       "\\item 0.0652202660817423\n",
       "\\item 0.0639938188147543\n",
       "\\item 0.0610915163238098\n",
       "\\item 0.060840554351325\n",
       "\\item 0.0602446476052566\n",
       "\\item 0.0590680044073591\n",
       "\\item 0.0581997664853264\n",
       "\\item 0.0570856899855964\n",
       "\\item 0.0569044687495757\n",
       "\\item 0.0568530738136067\n",
       "\\item 0.0557419836057061\n",
       "\\item 0.053596270816962\n",
       "\\item 0.0534323302237879\n",
       "\\item 0.0531642578219696\n",
       "\\item 0.0531642578219696\n",
       "\\item 0.0529096403214538\n",
       "\\item 0.0528940577816767\n",
       "\\item 0.0523123977326624\n",
       "\\item 0.0522448426840734\n",
       "\\item 0.0517743398066146\n",
       "\\item 0.0517743398066146\n",
       "\\item 0.0511751991596145\n",
       "\\item 0.0511751991596145\n",
       "\\item 0.05078123560116\n",
       "\\item 0.0502211544030665\n",
       "\\item 0.049339930380367\n",
       "\\item 0.0488575569008725\n",
       "\\item 0.0480510930120122\n",
       "\\item 0.047196627644459\n",
       "\\item 0.0471777875787024\n",
       "\\item 0.0467630049282054\n",
       "\\item 0.0463313848010301\n",
       "\\item 0.0463076852430257\n",
       "\\item 0.0462287342162502\n",
       "\\item 0.0461424550067134\n",
       "\\item 0.0459114798373688\n",
       "\\item 0.0458343907890943\n",
       "\\item 0.0456160830744888\n",
       "\\item 0.0455504828756355\n",
       "\\item 0.0455504828756355\n",
       "\\item 0.045361252842427\n",
       "\\item 0.0452188579531784\n",
       "\\item 0.0452086040675827\n",
       "\\item 0.0445275331690333\n",
       "\\item 0.0434386489738429\n",
       "\\item 0.0426275654185244\n",
       "\\item 0.0405780846455254\n",
       "\\item 0.0383121459854635\n",
       "\\item 0.0375880239250506\n",
       "\\item 0.0375835276550681\n",
       "\\item 0.0372009016488721\n",
       "\\item 0.0360079022465401\n",
       "\\item 0.0354963871516266\n",
       "\\item 0.0350545653308187\n",
       "\\item 0.0348345219209482\n",
       "\\item 0.0288630797160293\n",
       "\\item 0.0288057301533218\n",
       "\\item 0.0274545281483819\n",
       "\\item 0.0273379943024217\n",
       "\\item 0.0263861360246752\n",
       "\\item 0.0263861360246752\n",
       "\\item 0.026325205397101\n",
       "\\item 0.0260947668550075\n",
       "\\item 0.0259311119903117\n",
       "\\item 0.0250614286254924\n",
       "\\item 0.0250174608041194\n",
       "\\item 0.0249069337988884\n",
       "\\item 0.0249069337988884\n",
       "\\item 0.0243730056115588\n",
       "\\item 0.0241368181755317\n",
       "\\item 0.0229167659924187\n",
       "\\item 0.0229167659924187\n",
       "\\item 0.0228998692682561\n",
       "\\item 0.0228998692682561\n",
       "\\item 0.0228998692682561\n",
       "\\item 0.0228122458279171\n",
       "\\item 0.0228122458279171\n",
       "\\item 0.0224413662396526\n",
       "\\item 0.0222356938845931\n",
       "\\item 0.0221706723768559\n",
       "\\item 0.0220685549486459\n",
       "\\item 0.0220097102128001\n",
       "\\item 0.0220097102128001\n",
       "\\item 0.0219712652963203\n",
       "\\item 0.0218138710982778\n",
       "\\item 0.021662919800899\n",
       "\\item 0.0213403425688671\n",
       "\\item 0.0213403425688671\n",
       "\\item 0.0210688019328967\n",
       "\\item 0.0210539303895077\n",
       "\\item 0.0210539303895077\n",
       "\\item 0.0209735401459842\n",
       "\\item 0.020720339631158\n",
       "\\item 0.0205660853648633\n",
       "\\item 0.0204103071663194\n",
       "\\item 0.0204103071663194\n",
       "\\item 0.0203658554091103\n",
       "\\item 0.0201171884020399\n",
       "\\item 0.0201171884020399\n",
       "\\item 0.0198894662622248\n",
       "\\item 0.0198420865848778\n",
       "\\item 0.0196319874836602\n",
       "\\item 0.0196319874836602\n",
       "\\item 0.0196121241540607\n",
       "\\item 0.0196121241540607\n",
       "\\item 0.0196121241540607\n",
       "\\item 0.019564068292414\n",
       "\\item 0.019564068292414\n",
       "\\item 0.0195447547175734\n",
       "\\item 0.0192304067677747\n",
       "\\item 0.0191573946304386\n",
       "\\item 0.0191472766524006\n",
       "\\item 0.0191472766524006\n",
       "\\item 0.0191472766524006\n",
       "\\item 0.0189402805557815\n",
       "\\item 0.0187631696838072\n",
       "\\item 0.0186799976660715\n",
       "\\item 0.0186799976660715\n",
       "\\item 0.0186102805496382\n",
       "\\item 0.0185882970603508\n",
       "\\item 0.0185882970603508\n",
       "\\item 0.0185540183345075\n",
       "\\item 0.0185112110206792\n",
       "\\item 0.0184989979710751\n",
       "\\item 0.0184968544573031\n",
       "\\item 0.018474530778391\n",
       "\\item 0.0184659610969301\n",
       "\\item 0.0184659610969301\n",
       "\\item 0.0184549660137931\n",
       "\\item 0.0184549660137931\n",
       "\\item 0.0183790404647102\n",
       "\\item 0.0182206186710438\n",
       "\\item 0.0182206186710438\n",
       "\\item 0.0182206186710438\n",
       "\\item 0.0182206186710438\n",
       "\\item 0.0182063732701778\n",
       "\\item 0.0181641532323761\n",
       "\\item 0.0181394292399095\n",
       "\\item 0.0180565337020331\n",
       "\\item 0.017885271612659\n",
       "\\item 0.0178777120712357\n",
       "\\item 0.0178777120712357\n",
       "\\item 0.0177972192696511\n",
       "\\item 0.0177972192696511\n",
       "\\item 0.0177972192696511\n",
       "\\item 0.0177972192696511\n",
       "\\item 0.0176698145077719\n",
       "\\item 0.0176303332222489\n",
       "\\item 0.0176303332222489\n",
       "\\item 0.0176303332222489\n",
       "\\item 0.017591724442479\n",
       "\\item 0.0175860480779938\n",
       "\\item 0.017567860942852\n",
       "\\item 0.017567860942852\n",
       "\\item 0.0175091593808467\n",
       "\\item 0.0174889671888546\n",
       "\\item 0.0174400492205168\n",
       "\\item 0.0174154781964741\n",
       "\\item 0.0174002930866575\n",
       "\\item 0.0174002930866575\n",
       "\\item 0.0174002930866575\n",
       "\\item 0.0173855313719058\n",
       "\\item 0.0173764203060159\n",
       "\\item 0.0173764203060159\n",
       "\\item 0.0173764203060159\n",
       "\\item 0.0173764203060159\n",
       "\\item 0.0173660024266767\n",
       "\\item 0.0173079411858897\n",
       "\\item 0.0173079411858897\n",
       "\\item 0.0173079411858897\n",
       "\\end{enumerate*}\n"
      ],
      "text/markdown": [
       "1. 0.158842452916694\n",
       "2. 0.14324536819747\n",
       "3. 0.138256423324405\n",
       "4. 0.120039169522994\n",
       "5. 0.119815453831988\n",
       "6. 0.114174472419527\n",
       "7. 0.111492446627603\n",
       "8. 0.107731756076927\n",
       "9. 0.102851776676303\n",
       "10. 0.101027286577782\n",
       "11. 0.099752845803292\n",
       "12. 0.097057145152496\n",
       "13. 0.0961051175481281\n",
       "14. 0.0956115058309208\n",
       "15. 0.0901642027227318\n",
       "16. 0.0885009662600076\n",
       "17. 0.0779991316718123\n",
       "18. 0.0674732414826712\n",
       "19. 0.0667017296177308\n",
       "20. 0.0652202660817423\n",
       "21. 0.0639938188147543\n",
       "22. 0.0610915163238098\n",
       "23. 0.060840554351325\n",
       "24. 0.0602446476052566\n",
       "25. 0.0590680044073591\n",
       "26. 0.0581997664853264\n",
       "27. 0.0570856899855964\n",
       "28. 0.0569044687495757\n",
       "29. 0.0568530738136067\n",
       "30. 0.0557419836057061\n",
       "31. 0.053596270816962\n",
       "32. 0.0534323302237879\n",
       "33. 0.0531642578219696\n",
       "34. 0.0531642578219696\n",
       "35. 0.0529096403214538\n",
       "36. 0.0528940577816767\n",
       "37. 0.0523123977326624\n",
       "38. 0.0522448426840734\n",
       "39. 0.0517743398066146\n",
       "40. 0.0517743398066146\n",
       "41. 0.0511751991596145\n",
       "42. 0.0511751991596145\n",
       "43. 0.05078123560116\n",
       "44. 0.0502211544030665\n",
       "45. 0.049339930380367\n",
       "46. 0.0488575569008725\n",
       "47. 0.0480510930120122\n",
       "48. 0.047196627644459\n",
       "49. 0.0471777875787024\n",
       "50. 0.0467630049282054\n",
       "51. 0.0463313848010301\n",
       "52. 0.0463076852430257\n",
       "53. 0.0462287342162502\n",
       "54. 0.0461424550067134\n",
       "55. 0.0459114798373688\n",
       "56. 0.0458343907890943\n",
       "57. 0.0456160830744888\n",
       "58. 0.0455504828756355\n",
       "59. 0.0455504828756355\n",
       "60. 0.045361252842427\n",
       "61. 0.0452188579531784\n",
       "62. 0.0452086040675827\n",
       "63. 0.0445275331690333\n",
       "64. 0.0434386489738429\n",
       "65. 0.0426275654185244\n",
       "66. 0.0405780846455254\n",
       "67. 0.0383121459854635\n",
       "68. 0.0375880239250506\n",
       "69. 0.0375835276550681\n",
       "70. 0.0372009016488721\n",
       "71. 0.0360079022465401\n",
       "72. 0.0354963871516266\n",
       "73. 0.0350545653308187\n",
       "74. 0.0348345219209482\n",
       "75. 0.0288630797160293\n",
       "76. 0.0288057301533218\n",
       "77. 0.0274545281483819\n",
       "78. 0.0273379943024217\n",
       "79. 0.0263861360246752\n",
       "80. 0.0263861360246752\n",
       "81. 0.026325205397101\n",
       "82. 0.0260947668550075\n",
       "83. 0.0259311119903117\n",
       "84. 0.0250614286254924\n",
       "85. 0.0250174608041194\n",
       "86. 0.0249069337988884\n",
       "87. 0.0249069337988884\n",
       "88. 0.0243730056115588\n",
       "89. 0.0241368181755317\n",
       "90. 0.0229167659924187\n",
       "91. 0.0229167659924187\n",
       "92. 0.0228998692682561\n",
       "93. 0.0228998692682561\n",
       "94. 0.0228998692682561\n",
       "95. 0.0228122458279171\n",
       "96. 0.0228122458279171\n",
       "97. 0.0224413662396526\n",
       "98. 0.0222356938845931\n",
       "99. 0.0221706723768559\n",
       "100. 0.0220685549486459\n",
       "101. 0.0220097102128001\n",
       "102. 0.0220097102128001\n",
       "103. 0.0219712652963203\n",
       "104. 0.0218138710982778\n",
       "105. 0.021662919800899\n",
       "106. 0.0213403425688671\n",
       "107. 0.0213403425688671\n",
       "108. 0.0210688019328967\n",
       "109. 0.0210539303895077\n",
       "110. 0.0210539303895077\n",
       "111. 0.0209735401459842\n",
       "112. 0.020720339631158\n",
       "113. 0.0205660853648633\n",
       "114. 0.0204103071663194\n",
       "115. 0.0204103071663194\n",
       "116. 0.0203658554091103\n",
       "117. 0.0201171884020399\n",
       "118. 0.0201171884020399\n",
       "119. 0.0198894662622248\n",
       "120. 0.0198420865848778\n",
       "121. 0.0196319874836602\n",
       "122. 0.0196319874836602\n",
       "123. 0.0196121241540607\n",
       "124. 0.0196121241540607\n",
       "125. 0.0196121241540607\n",
       "126. 0.019564068292414\n",
       "127. 0.019564068292414\n",
       "128. 0.0195447547175734\n",
       "129. 0.0192304067677747\n",
       "130. 0.0191573946304386\n",
       "131. 0.0191472766524006\n",
       "132. 0.0191472766524006\n",
       "133. 0.0191472766524006\n",
       "134. 0.0189402805557815\n",
       "135. 0.0187631696838072\n",
       "136. 0.0186799976660715\n",
       "137. 0.0186799976660715\n",
       "138. 0.0186102805496382\n",
       "139. 0.0185882970603508\n",
       "140. 0.0185882970603508\n",
       "141. 0.0185540183345075\n",
       "142. 0.0185112110206792\n",
       "143. 0.0184989979710751\n",
       "144. 0.0184968544573031\n",
       "145. 0.018474530778391\n",
       "146. 0.0184659610969301\n",
       "147. 0.0184659610969301\n",
       "148. 0.0184549660137931\n",
       "149. 0.0184549660137931\n",
       "150. 0.0183790404647102\n",
       "151. 0.0182206186710438\n",
       "152. 0.0182206186710438\n",
       "153. 0.0182206186710438\n",
       "154. 0.0182206186710438\n",
       "155. 0.0182063732701778\n",
       "156. 0.0181641532323761\n",
       "157. 0.0181394292399095\n",
       "158. 0.0180565337020331\n",
       "159. 0.017885271612659\n",
       "160. 0.0178777120712357\n",
       "161. 0.0178777120712357\n",
       "162. 0.0177972192696511\n",
       "163. 0.0177972192696511\n",
       "164. 0.0177972192696511\n",
       "165. 0.0177972192696511\n",
       "166. 0.0176698145077719\n",
       "167. 0.0176303332222489\n",
       "168. 0.0176303332222489\n",
       "169. 0.0176303332222489\n",
       "170. 0.017591724442479\n",
       "171. 0.0175860480779938\n",
       "172. 0.017567860942852\n",
       "173. 0.017567860942852\n",
       "174. 0.0175091593808467\n",
       "175. 0.0174889671888546\n",
       "176. 0.0174400492205168\n",
       "177. 0.0174154781964741\n",
       "178. 0.0174002930866575\n",
       "179. 0.0174002930866575\n",
       "180. 0.0174002930866575\n",
       "181. 0.0173855313719058\n",
       "182. 0.0173764203060159\n",
       "183. 0.0173764203060159\n",
       "184. 0.0173764203060159\n",
       "185. 0.0173764203060159\n",
       "186. 0.0173660024266767\n",
       "187. 0.0173079411858897\n",
       "188. 0.0173079411858897\n",
       "189. 0.0173079411858897\n",
       "\n",
       "\n"
      ],
      "text/plain": [
       "  [1] 0.15884245 0.14324537 0.13825642 0.12003917 0.11981545 0.11417447\n",
       "  [7] 0.11149245 0.10773176 0.10285178 0.10102729 0.09975285 0.09705715\n",
       " [13] 0.09610512 0.09561151 0.09016420 0.08850097 0.07799913 0.06747324\n",
       " [19] 0.06670173 0.06522027 0.06399382 0.06109152 0.06084055 0.06024465\n",
       " [25] 0.05906800 0.05819977 0.05708569 0.05690447 0.05685307 0.05574198\n",
       " [31] 0.05359627 0.05343233 0.05316426 0.05316426 0.05290964 0.05289406\n",
       " [37] 0.05231240 0.05224484 0.05177434 0.05177434 0.05117520 0.05117520\n",
       " [43] 0.05078124 0.05022115 0.04933993 0.04885756 0.04805109 0.04719663\n",
       " [49] 0.04717779 0.04676300 0.04633138 0.04630769 0.04622873 0.04614246\n",
       " [55] 0.04591148 0.04583439 0.04561608 0.04555048 0.04555048 0.04536125\n",
       " [61] 0.04521886 0.04520860 0.04452753 0.04343865 0.04262757 0.04057808\n",
       " [67] 0.03831215 0.03758802 0.03758353 0.03720090 0.03600790 0.03549639\n",
       " [73] 0.03505457 0.03483452 0.02886308 0.02880573 0.02745453 0.02733799\n",
       " [79] 0.02638614 0.02638614 0.02632521 0.02609477 0.02593111 0.02506143\n",
       " [85] 0.02501746 0.02490693 0.02490693 0.02437301 0.02413682 0.02291677\n",
       " [91] 0.02291677 0.02289987 0.02289987 0.02289987 0.02281225 0.02281225\n",
       " [97] 0.02244137 0.02223569 0.02217067 0.02206855 0.02200971 0.02200971\n",
       "[103] 0.02197127 0.02181387 0.02166292 0.02134034 0.02134034 0.02106880\n",
       "[109] 0.02105393 0.02105393 0.02097354 0.02072034 0.02056609 0.02041031\n",
       "[115] 0.02041031 0.02036586 0.02011719 0.02011719 0.01988947 0.01984209\n",
       "[121] 0.01963199 0.01963199 0.01961212 0.01961212 0.01961212 0.01956407\n",
       "[127] 0.01956407 0.01954475 0.01923041 0.01915739 0.01914728 0.01914728\n",
       "[133] 0.01914728 0.01894028 0.01876317 0.01868000 0.01868000 0.01861028\n",
       "[139] 0.01858830 0.01858830 0.01855402 0.01851121 0.01849900 0.01849685\n",
       "[145] 0.01847453 0.01846596 0.01846596 0.01845497 0.01845497 0.01837904\n",
       "[151] 0.01822062 0.01822062 0.01822062 0.01822062 0.01820637 0.01816415\n",
       "[157] 0.01813943 0.01805653 0.01788527 0.01787771 0.01787771 0.01779722\n",
       "[163] 0.01779722 0.01779722 0.01779722 0.01766981 0.01763033 0.01763033\n",
       "[169] 0.01763033 0.01759172 0.01758605 0.01756786 0.01756786 0.01750916\n",
       "[175] 0.01748897 0.01744005 0.01741548 0.01740029 0.01740029 0.01740029\n",
       "[181] 0.01738553 0.01737642 0.01737642 0.01737642 0.01737642 0.01736600\n",
       "[187] 0.01730794 0.01730794 0.01730794"
      ]
     },
     "metadata": {},
     "output_type": "display_data"
    },
    {
     "data": {
      "text/html": [
       "0.037037037037037"
      ],
      "text/latex": [
       "0.037037037037037"
      ],
      "text/markdown": [
       "0.037037037037037"
      ],
      "text/plain": [
       "[1] 0.03703704"
      ]
     },
     "metadata": {},
     "output_type": "display_data"
    },
    {
     "data": {
      "text/html": [
       "0.0740740740740741"
      ],
      "text/latex": [
       "0.0740740740740741"
      ],
      "text/markdown": [
       "0.0740740740740741"
      ],
      "text/plain": [
       "[1] 0.07407407"
      ]
     },
     "metadata": {},
     "output_type": "display_data"
    },
    {
     "data": {
      "image/png": "[encoded data removed]",
      "text/plain": [
       "plot without title"
      ]
     },
     "metadata": {
      "image/png": {
       "height": 720,
       "width": 720
      }
     },
     "output_type": "display_data"
    }
   ],
   "source": [
    "#calculating the leverage for each observation\n",
    "hats <- as.data.frame(hatvalues(model))\n",
    "hats\n",
    "\n",
    "#sort observations by leverage in  a descending order\n",
    "hats[order(-hats['hatvalues(model)']),]\n",
    "\n",
    "#average hatvalues\n",
    "mean(hatvalues(model))\n",
    "\n",
    "#plot leverage values for each observation\n",
    "plot(hatvalues(model), type ='h')\n",
    "\n",
    "#average value of hatvalues\n",
    "mean(hatvalues(model))*2\n",
    "\n",
    "#Potential hatvalues with a high leverage\n",
    "high_leverage = hats[hatvalues(model) >= mean(hatvalues(model))*2, ]"
   ]
  },
  {
   "cell_type": "markdown",
   "metadata": {},
   "source": [
    "**Comments**\n",
    "- To investigate whether certain observations have a potential to influence the model, we analyze its leverage through calculating the hat values. In general, an observation would be considered to have a high leverage if its value is more than twice the average of the hat value (0.074). \n",
    "- The analysis suggests that there are a total of 17 observations with a considerably high leverage, with the highest and lowest value of these observations being (0.15884245) and (0.07799913), respectively. \n",
    "- Since there are values which are considered to have a high leverage, an influential analysis will be conducted. "
   ]
  },
  {
   "cell_type": "markdown",
   "metadata": {},
   "source": [
    "#### 2.8 Influence Analysis"
   ]
  },
  {
   "cell_type": "code",
   "execution_count": 12,
   "metadata": {},
   "outputs": [
    {
     "data": {
      "text/html": [],
      "text/latex": [],
      "text/markdown": [],
      "text/plain": [
       "numeric(0)"
      ]
     },
     "metadata": {},
     "output_type": "display_data"
    },
    {
     "data": {
      "image/png": "[encoded data removed]",
      "text/plain": [
       "plot without title"
      ]
     },
     "metadata": {
      "image/png": {
       "height": 720,
       "width": 720
      }
     },
     "output_type": "display_data"
    }
   ],
   "source": [
    "#Finding cooks distance values\n",
    "cooks_d = cooks.distance(model)\n",
    "cooks_d = as.data.frame(cooks_d)\n",
    "colnames(cooks_d)[1] = \"distance\"\n",
    "\n",
    "#Finding potential influential values\n",
    "cooks_d[cooks_d$distance >= 1,]\n",
    "plot(cooks_d$distance, type ='h', ylab = \"Cook's Distance (D)\")"
   ]
  },
  {
   "cell_type": "markdown",
   "metadata": {},
   "source": [
    "**Comments**\n",
    "- To investigate the potential influence of the observations, we assess the Cook's distance. It is suggested by authors that a value larger than 1 indicates an influential observation.\n",
    "- The analysis suggests that none of the observations are influential, having the highest Cooks' distance value substantially lower than. Thus, no observations will be removed from the original data and the same model will be used."
   ]
  },
  {
   "cell_type": "markdown",
   "metadata": {},
   "source": [
    "## 3. Conclusion"
   ]
  },
  {
   "cell_type": "markdown",
   "metadata": {},
   "source": [
    "!!! TO BE COMPLETED (last)  \n",
    "\n",
    "Rough draft: (should we summarise each of the analysis section? or just the overall result?)\n",
    " \n",
    "- Based on our analysis, the best model to predict a baby's neonate birth weight consists of the following 5 factors associated to the birth mother:\n",
    "    - weight in their last menstrual period (lwt)\n",
    "    - race (race)\n",
    "    - smoking status during pregnancy (smoke)\n",
    "    - history of hypertension (ht)\n",
    "    - presence of uterine irritability (ui)\n",
    " \n",
    "- Even with the best model, the adjusted R-squared is still merely 0.2154. This observation suggests that there are poMortentially other external factors affecting the neonate birth weight.\n",
    "- To develop a model that can be realiably applied in birth preparation, further studies are needed to explore other explanatory variables that affect neonatal birth weight."
   ]
  }
 ],
 "metadata": {
  "kernelspec": {
   "display_name": "R",
   "language": "R",
   "name": "ir"
  },
  "language_info": {
   "codemirror_mode": "r",
   "file_extension": ".r",
   "mimetype": "text/x-r-source",
   "name": "R",
   "pygments_lexer": "r",
   "version": "3.6.3"
  }
 },
 "nbformat": 4,
 "nbformat_minor": 4
}
