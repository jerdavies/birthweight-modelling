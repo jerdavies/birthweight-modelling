{
 "cells": [
  {
   "cell_type": "markdown",
   "metadata": {},
   "source": [
    "# Mothers’ Lifestyle Characteristics Impact on Infant Birth Weight"
   ]
  },
  {
   "cell_type": "markdown",
   "metadata": {},
   "source": [
    "Team B1: Ayingfu (#82951880), Bryant Hartono (#66162710), Jeremy Davies (#74883935), Jingxuan Ma (#49183288)"
   ]
  },
  {
   "cell_type": "markdown",
   "metadata": {},
   "source": [
    "## 1. Introduction"
   ]
  },
  {
   "cell_type": "markdown",
   "metadata": {},
   "source": [
    "#### 1.1 Data Source"
   ]
  },
  {
   "cell_type": "markdown",
   "metadata": {},
   "source": [
    "The dataset for this project is the “birthwt” dataset provided with the Support Functions and Datasets for Venables and Ripley's MASS package in R."
   ]
  },
  {
   "cell_type": "markdown",
   "metadata": {},
   "source": [
    "Relevant citation for the MASS package:  \n",
    "Venables WN, Ripley BD (2002). Modern Applied Statistics with S, Fourth edition. Springer, New York. ISBN 0-387-95457-0, https://www.stats.ox.ac.uk/pub/MASS4/."
   ]
  },
  {
   "cell_type": "markdown",
   "metadata": {},
   "source": [
    "#### 1.2 Dataset Description"
   ]
  },
  {
   "cell_type": "markdown",
   "metadata": {},
   "source": [
    "**Dataset detail**  \n",
    "The dataset consists of 189 observations with 10 columns (refer to column details explained below). Data was collected at Baystate Medical Center, Springfield, Massachusetts during 1986, with no specific setting. Study subjects were 189 mothers, 59 of which had low birth weight babies and 130 of which had normal birth weight babies. Characteristics of the mother’s lifestyle and health factors were collected during the pregnancy and the weight of the newborn infant was recorded at birth."
   ]
  },
  {
   "cell_type": "markdown",
   "metadata": {},
   "source": [
    "**Response variable**  \n",
    "Neonate birth weight (‘bwt’), measured in grams."
   ]
  },
  {
   "cell_type": "markdown",
   "metadata": {},
   "source": [
    "**Potential explanatory variables**  \n",
    "1) Continuous variables  \n",
    "- age: Mother’s age (years)\n",
    "- lwt: Mother's weight (pounds) at last menstrual period\n",
    "- ptl: Number of previous premature labors\n",
    "- ftv: Number of physician visits during the first trimester  \n",
    "  \n",
    "2) Categorical variables  \n",
    "- race: Mother's race ( “1” = white, “2” = black, “3” = other) \n",
    "- smoke: Smoking status during the pregnancy. (“1”=Yes,”0”= No)\n",
    "- ht: History of hypertension. (“1”=Yes,”0”= No)\n",
    "- ui: Presence of uterine irritability. (“1”=Yes,”0”= No)"
   ]
  },
  {
   "cell_type": "markdown",
   "metadata": {},
   "source": [
    "#### 1.3 Research Question / Motivation"
   ]
  },
  {
   "cell_type": "markdown",
   "metadata": {},
   "source": [
    "There is some evidence (and some speculation) to suggest that heavier babies have lower infant mortality rates and perhaps also lower risk of cardiovascular disease later in life. Therefore, our group is interested in studying the factors that explain an infant’s birth weight. In particular, we are interested in whether the weight of the mother, the mother’s race, the smoking status of the mother, among other variables, affect the infant birth weight.  \n",
    "  \n",
    "If we can identify the contributing factors and reasonably predict a baby’s neonate birth weight, this would enable better preparation of healthcare at birth. For example, if we develop a model that predicts a baby will have a low birth weight, then the obstetrician could recommend for the mother to have the birth at a dedicated neonatal ward, where there are more specialized resources to ensure a healthy birth."
   ]
  },
  {
   "cell_type": "markdown",
   "metadata": {},
   "source": [
    "## 2. Analysis"
   ]
  },
  {
   "cell_type": "markdown",
   "metadata": {},
   "source": [
    "#### 2.1 Reading in data"
   ]
  },
  {
   "cell_type": "code",
   "execution_count": 1,
   "metadata": {},
   "outputs": [
    {
     "name": "stdout",
     "output_type": "stream",
     "text": [
      "package 'leaps' successfully unpacked and MD5 sums checked\n",
      "\n",
      "The downloaded binary packages are in\n",
      "\tC:\\Users\\jerda\\AppData\\Local\\Temp\\RtmpW40kzI\\downloaded_packages\n"
     ]
    },
    {
     "name": "stderr",
     "output_type": "stream",
     "text": [
      "-- \u001b[1mAttaching packages\u001b[22m ------------------------------------------------------------------------------- tidyverse 1.3.1 --\n",
      "\n",
      "\u001b[32mv\u001b[39m \u001b[34mggplot2\u001b[39m 3.3.3     \u001b[32mv\u001b[39m \u001b[34mpurrr  \u001b[39m 0.3.4\n",
      "\u001b[32mv\u001b[39m \u001b[34mtibble \u001b[39m 3.1.0     \u001b[32mv\u001b[39m \u001b[34mdplyr  \u001b[39m 1.0.5\n",
      "\u001b[32mv\u001b[39m \u001b[34mtidyr  \u001b[39m 1.1.3     \u001b[32mv\u001b[39m \u001b[34mstringr\u001b[39m 1.4.0\n",
      "\u001b[32mv\u001b[39m \u001b[34mreadr  \u001b[39m 1.4.0     \u001b[32mv\u001b[39m \u001b[34mforcats\u001b[39m 0.5.1\n",
      "\n",
      "-- \u001b[1mConflicts\u001b[22m ---------------------------------------------------------------------------------- tidyverse_conflicts() --\n",
      "\u001b[31mx\u001b[39m \u001b[34mdplyr\u001b[39m::\u001b[32mfilter()\u001b[39m masks \u001b[34mstats\u001b[39m::filter()\n",
      "\u001b[31mx\u001b[39m \u001b[34mdplyr\u001b[39m::\u001b[32mlag()\u001b[39m    masks \u001b[34mstats\u001b[39m::lag()\n",
      "\n",
      "-- \u001b[1mAttaching packages\u001b[22m ------------------------------------------------------------------------------ tidymodels 0.1.2 --\n",
      "\n",
      "\u001b[32mv\u001b[39m \u001b[34mbroom    \u001b[39m 0.7.6      \u001b[32mv\u001b[39m \u001b[34mrecipes  \u001b[39m 0.1.15\n",
      "\u001b[32mv\u001b[39m \u001b[34mdials    \u001b[39m 0.0.9      \u001b[32mv\u001b[39m \u001b[34mrsample  \u001b[39m 0.0.9 \n",
      "\u001b[32mv\u001b[39m \u001b[34minfer    \u001b[39m 0.5.4      \u001b[32mv\u001b[39m \u001b[34mtune     \u001b[39m 0.1.3 \n",
      "\u001b[32mv\u001b[39m \u001b[34mmodeldata\u001b[39m 0.1.0      \u001b[32mv\u001b[39m \u001b[34mworkflows\u001b[39m 0.2.2 \n",
      "\u001b[32mv\u001b[39m \u001b[34mparsnip  \u001b[39m 0.1.5      \u001b[32mv\u001b[39m \u001b[34myardstick\u001b[39m 0.0.8 \n",
      "\n",
      "-- \u001b[1mConflicts\u001b[22m --------------------------------------------------------------------------------- tidymodels_conflicts() --\n",
      "\u001b[31mx\u001b[39m \u001b[34mscales\u001b[39m::\u001b[32mdiscard()\u001b[39m masks \u001b[34mpurrr\u001b[39m::discard()\n",
      "\u001b[31mx\u001b[39m \u001b[34mdplyr\u001b[39m::\u001b[32mfilter()\u001b[39m   masks \u001b[34mstats\u001b[39m::filter()\n",
      "\u001b[31mx\u001b[39m \u001b[34mrecipes\u001b[39m::\u001b[32mfixed()\u001b[39m  masks \u001b[34mstringr\u001b[39m::fixed()\n",
      "\u001b[31mx\u001b[39m \u001b[34mdplyr\u001b[39m::\u001b[32mlag()\u001b[39m      masks \u001b[34mstats\u001b[39m::lag()\n",
      "\u001b[31mx\u001b[39m \u001b[34myardstick\u001b[39m::\u001b[32mspec()\u001b[39m masks \u001b[34mreadr\u001b[39m::spec()\n",
      "\u001b[31mx\u001b[39m \u001b[34mrecipes\u001b[39m::\u001b[32mstep()\u001b[39m   masks \u001b[34mstats\u001b[39m::step()\n",
      "\n",
      "\n",
      "Attaching package: 'MASS'\n",
      "\n",
      "\n",
      "The following object is masked from 'package:dplyr':\n",
      "\n",
      "    select\n",
      "\n",
      "\n",
      "Registered S3 method overwritten by 'GGally':\n",
      "  method from   \n",
      "  +.gg   ggplot2\n",
      "\n"
     ]
    }
   ],
   "source": [
    "# Necessary libraries to install:\n",
    "# - 'tidyverse', 'cowplot' , 'tidymodels', 'repr', 'MASS', 'leaps', 'GGally'\n",
    "install.packages(\"leaps\")\n",
    "# Load in libaries\n",
    "library(tidyverse)\n",
    "library(cowplot)\n",
    "library(tidymodels)\n",
    "library(repr)\n",
    "library(MASS)\n",
    "library(GGally)\n",
    "library(leaps)\n",
    "\n",
    "# Suppress table outputs to a manageable # of rows\n",
    "options(repr.matrix.max.rows = 10)\n",
    "\n",
    "# Read data\n",
    "raw_data <- birthwt"
   ]
  },
  {
   "cell_type": "markdown",
   "metadata": {},
   "source": [
    "#### 2.2 Clean and wrangle data"
   ]
  },
  {
   "cell_type": "code",
   "execution_count": 2,
   "metadata": {},
   "outputs": [
    {
     "data": {
      "text/html": [
       "<table class=\"dataframe\">\n",
       "<caption>A data.frame: 5 × 9</caption>\n",
       "<thead>\n",
       "\t<tr><th></th><th scope=col>age</th><th scope=col>lwt</th><th scope=col>ptl</th><th scope=col>ftv</th><th scope=col>race</th><th scope=col>smoke</th><th scope=col>ht</th><th scope=col>ui</th><th scope=col>bwt</th></tr>\n",
       "\t<tr><th></th><th scope=col>&lt;int&gt;</th><th scope=col>&lt;int&gt;</th><th scope=col>&lt;int&gt;</th><th scope=col>&lt;int&gt;</th><th scope=col>&lt;fct&gt;</th><th scope=col>&lt;fct&gt;</th><th scope=col>&lt;fct&gt;</th><th scope=col>&lt;fct&gt;</th><th scope=col>&lt;int&gt;</th></tr>\n",
       "</thead>\n",
       "<tbody>\n",
       "\t<tr><th scope=row>85</th><td>19</td><td>182</td><td>0</td><td>0</td><td>Black</td><td>No </td><td>No</td><td>Yes</td><td>2523</td></tr>\n",
       "\t<tr><th scope=row>86</th><td>33</td><td>155</td><td>0</td><td>3</td><td>Other</td><td>No </td><td>No</td><td>No </td><td>2551</td></tr>\n",
       "\t<tr><th scope=row>87</th><td>20</td><td>105</td><td>0</td><td>1</td><td>White</td><td>Yes</td><td>No</td><td>No </td><td>2557</td></tr>\n",
       "\t<tr><th scope=row>88</th><td>21</td><td>108</td><td>0</td><td>2</td><td>White</td><td>Yes</td><td>No</td><td>Yes</td><td>2594</td></tr>\n",
       "\t<tr><th scope=row>89</th><td>18</td><td>107</td><td>0</td><td>0</td><td>White</td><td>Yes</td><td>No</td><td>Yes</td><td>2600</td></tr>\n",
       "</tbody>\n",
       "</table>\n"
      ],
      "text/latex": [
       "A data.frame: 5 × 9\n",
       "\\begin{tabular}{r|lllllllll}\n",
       "  & age & lwt & ptl & ftv & race & smoke & ht & ui & bwt\\\\\n",
       "  & <int> & <int> & <int> & <int> & <fct> & <fct> & <fct> & <fct> & <int>\\\\\n",
       "\\hline\n",
       "\t85 & 19 & 182 & 0 & 0 & Black & No  & No & Yes & 2523\\\\\n",
       "\t86 & 33 & 155 & 0 & 3 & Other & No  & No & No  & 2551\\\\\n",
       "\t87 & 20 & 105 & 0 & 1 & White & Yes & No & No  & 2557\\\\\n",
       "\t88 & 21 & 108 & 0 & 2 & White & Yes & No & Yes & 2594\\\\\n",
       "\t89 & 18 & 107 & 0 & 0 & White & Yes & No & Yes & 2600\\\\\n",
       "\\end{tabular}\n"
      ],
      "text/markdown": [
       "\n",
       "A data.frame: 5 × 9\n",
       "\n",
       "| <!--/--> | age &lt;int&gt; | lwt &lt;int&gt; | ptl &lt;int&gt; | ftv &lt;int&gt; | race &lt;fct&gt; | smoke &lt;fct&gt; | ht &lt;fct&gt; | ui &lt;fct&gt; | bwt &lt;int&gt; |\n",
       "|---|---|---|---|---|---|---|---|---|---|\n",
       "| 85 | 19 | 182 | 0 | 0 | Black | No  | No | Yes | 2523 |\n",
       "| 86 | 33 | 155 | 0 | 3 | Other | No  | No | No  | 2551 |\n",
       "| 87 | 20 | 105 | 0 | 1 | White | Yes | No | No  | 2557 |\n",
       "| 88 | 21 | 108 | 0 | 2 | White | Yes | No | Yes | 2594 |\n",
       "| 89 | 18 | 107 | 0 | 0 | White | Yes | No | Yes | 2600 |\n",
       "\n"
      ],
      "text/plain": [
       "   age lwt ptl ftv race  smoke ht ui  bwt \n",
       "85 19  182 0   0   Black No    No Yes 2523\n",
       "86 33  155 0   3   Other No    No No  2551\n",
       "87 20  105 0   1   White Yes   No No  2557\n",
       "88 21  108 0   2   White Yes   No Yes 2594\n",
       "89 18  107 0   0   White Yes   No Yes 2600"
      ]
     },
     "metadata": {},
     "output_type": "display_data"
    }
   ],
   "source": [
    "# Select only potentially meaningful columns (variables) and re-name categorical levels for easier understanding\n",
    "data_bwt <- raw_data %>%\n",
    "    dplyr::select(age, lwt, ptl, ftv, race, smoke, ht, ui, bwt) %>%\n",
    "    mutate(race = case_when(\n",
    "      race == 1  ~ \"White\",\n",
    "      race == 2  ~ \"Black\",\n",
    "      TRUE       ~ \"Other\"\n",
    "    ), \n",
    "    smoke = case_when(smoke == 0  ~ \"No\", smoke == 1  ~ \"Yes\"), \n",
    "    ht = case_when(ht == 0  ~ \"No\", ht == 1  ~ \"Yes\"),\n",
    "    ui = case_when(ui == 0  ~ \"No\", ui == 1  ~ \"Yes\")\n",
    ")\n",
    "\n",
    "# Convert categorical variables to factors in R\n",
    "data_bwt$race <- as.factor(data_bwt$race)\n",
    "data_bwt$smoke <- as.factor(data_bwt$smoke)\n",
    "data_bwt$ht <- as.factor(data_bwt$ht)\n",
    "data_bwt$ui <- as.factor(data_bwt$ui)\n",
    "\n",
    "#  relevel race based on highest observation count\n",
    "data_bwt$race <- relevel(data_bwt$race, ref=\"White\")  \n",
    "\n",
    "# Inspect clean dataframe\n",
    "head(data_bwt,5)"
   ]
  },
  {
   "cell_type": "markdown",
   "metadata": {},
   "source": [
    "#### 2.3 Tabular Summary of Data"
   ]
  },
  {
   "cell_type": "code",
   "execution_count": 3,
   "metadata": {},
   "outputs": [
    {
     "data": {
      "text/plain": [
       "      age             lwt             ptl              ftv            race   \n",
       " Min.   :14.00   Min.   : 80.0   Min.   :0.0000   Min.   :0.0000   White:96  \n",
       " 1st Qu.:19.00   1st Qu.:110.0   1st Qu.:0.0000   1st Qu.:0.0000   Black:26  \n",
       " Median :23.00   Median :121.0   Median :0.0000   Median :0.0000   Other:67  \n",
       " Mean   :23.24   Mean   :129.8   Mean   :0.1958   Mean   :0.7937             \n",
       " 3rd Qu.:26.00   3rd Qu.:140.0   3rd Qu.:0.0000   3rd Qu.:1.0000             \n",
       " Max.   :45.00   Max.   :250.0   Max.   :3.0000   Max.   :6.0000             \n",
       " smoke       ht        ui           bwt      \n",
       " No :115   No :177   No :161   Min.   : 709  \n",
       " Yes: 74   Yes: 12   Yes: 28   1st Qu.:2414  \n",
       "                               Median :2977  \n",
       "                               Mean   :2945  \n",
       "                               3rd Qu.:3487  \n",
       "                               Max.   :4990  "
      ]
     },
     "metadata": {},
     "output_type": "display_data"
    }
   ],
   "source": [
    "summary(data_bwt)"
   ]
  },
  {
   "cell_type": "markdown",
   "metadata": {},
   "source": [
    "#### 2.4 Visual Summary of Data"
   ]
  },
  {
   "cell_type": "markdown",
   "metadata": {},
   "source": [
    "##### 2.4.1 Scatterplot grid for numeric variables vs. birthweight"
   ]
  },
  {
   "cell_type": "code",
   "execution_count": 4,
   "metadata": {},
   "outputs": [
    {
     "data": {
      "image/png": "[encoded data removed]",
      "text/plain": [
       "plot without title"
      ]
     },
     "metadata": {
      "image/png": {
       "height": 720,
       "width": 720
      }
     },
     "output_type": "display_data"
    }
   ],
   "source": [
    "# Set plot output size\n",
    "options(repr.plot.width = 12, repr.plot.height = 12)\n",
    "\n",
    "# Get df with only the numeric variables (exclude factor vars for now)\n",
    "data_bwt_numeric <- data_bwt %>%\n",
    "    dplyr::select(bwt, age, lwt, ptl, ftv)\n",
    "    \n",
    "\n",
    "# Construct visual correlation matrix of only numeric variables\n",
    "# PURPOSE: Explore correlations between explanatory variables themselves and with response variable bwt (birthweight)\n",
    "ggpairs(data_bwt_numeric,\n",
    "        title = \"Visual Correlation Matrix\",\n",
    "         upper = list(continuous = wrap(\"cor\", size = 8)))  +\n",
    "theme(text = element_text(size=12))"
   ]
  },
  {
   "cell_type": "markdown",
   "metadata": {},
   "source": [
    "**Comments**  \n",
    "- The baby's birth weight has a weak, positive correlation with with the mother's weight at the last menstrual period (r=0.18). This makes intuitive sense because we would expect on average that mothers of larger stature tend to have larger newborn babies.\n",
    "- The baby's birth weight has a weak, positive correlation with the mother's age (r=0.09).\n",
    "- The baby's birth weight has a weak, negative correlation with the number of previous premature labours (r=-0.155). This indicates that a mother who was prone to premature labours in the past may be prone to it again.\n",
    "- We also remark the presence of collinearity between explantory variables of mother's age and # of physician visits in the first trimester (r=0.215), and the mother's age and her weight (r=0.18). We will bear these trends in mind when fitting linear models in later sections of this report. \n",
    "  \n",
    "Note: The diagonal terms of the above chart represent a distribution of each respective numeric variable."
   ]
  },
  {
   "cell_type": "markdown",
   "metadata": {},
   "source": [
    "##### 2.4.1 Comparing baby birthweight by category"
   ]
  },
  {
   "cell_type": "markdown",
   "metadata": {},
   "source": [
    "TODO: In one chart (look up arranging multiple plots on a page), produce boxplots showing btw against the various levels of the categorical variables.  There should be box plots for race, smoke, ht, ui"
   ]
  },
  {
   "cell_type": "code",
   "execution_count": 5,
   "metadata": {},
   "outputs": [
    {
     "data": {
      "image/png": "[encoded data removed]",
      "text/plain": [
       "plot without title"
      ]
     },
     "metadata": {
      "image/png": {
       "height": 720,
       "width": 720
      }
     },
     "output_type": "display_data"
    }
   ],
   "source": [
    "# Set plot output size\n",
    "options(repr.plot.width = 12, repr.plot.height = 12)\n",
    "\n",
    "# Get df with only the categorical variables\n",
    "data_bwt_categorical <- data_bwt %>%\n",
    "    dplyr::select(bwt,race, smoke, ht, ui)\n",
    "    \n",
    "\n",
    "# Construct boxplots showing btw against the various levels of the categorical variables\n",
    "# PURPOSE: Explore distributions of various levels of different categorical explanatory variables\n",
    "\n",
    "p_race <- data_bwt_categorical%>%\n",
    "     ggplot(aes(x=race, y=bwt)) + \n",
    "             geom_boxplot()\n",
    "p_smoke<- data_bwt_categorical%>%\n",
    "     ggplot(aes(x=smoke, y=bwt)) + \n",
    "             geom_boxplot()\n",
    "p_ht<- data_bwt_categorical%>%\n",
    "     ggplot(aes(x=ht, y=bwt)) + \n",
    "             geom_boxplot()\n",
    "p_ui<- data_bwt_categorical%>%\n",
    "     ggplot(aes(x=ui, y=bwt)) + \n",
    "             geom_boxplot()\n",
    "plot_grid(p_race,p_smoke,p_ht,p_ui)\n"
   ]
  },
  {
   "cell_type": "markdown",
   "metadata": {},
   "source": [
    "**Comments**   \n",
    "- The baby's mean birth weights are equal among mothers who are black and other races, while white mothers' baby have mean birth weight about 100g higher than others. Both black and other races mothers have several babies with extrem low birth weight show as outilers in the boxplots and the ranges are narrower comparing to babies from white mothers with about half of the spread.\n",
    "- Mothers with no history of hypertension have babies with about 300 grams higher mean birth weights and the range is doubled comparing to mothers with history of hypertension.\n",
    "- Mothers with no presence of uterine irritability have babies with about 500 grams higher mean birth weights and wider spread than mothers with presence of uterine irritability.\n",
    "- Mothers who do not smoke during the pregnancy have babies with about 500 grams higher mean birth weights and wider spread than mothers who smoke during the pregnancy."
   ]
  },
  {
   "cell_type": "markdown",
   "metadata": {},
   "source": [
    "#### 2.5 Model Selection"
   ]
  },
  {
   "cell_type": "markdown",
   "metadata": {},
   "source": [
    "Model selection using best subsets method and validation set approach (test/train split)."
   ]
  },
  {
   "cell_type": "code",
   "execution_count": 6,
   "metadata": {},
   "outputs": [
    {
     "data": {
      "text/plain": [
       "Subset selection object\n",
       "Call: regsubsets.formula(bwt ~ ., data = data_bwt, method = \"exhaustive\")\n",
       "9 Variables  (and intercept)\n",
       "          Forced in Forced out\n",
       "age           FALSE      FALSE\n",
       "lwt           FALSE      FALSE\n",
       "ptl           FALSE      FALSE\n",
       "ftv           FALSE      FALSE\n",
       "raceBlack     FALSE      FALSE\n",
       "raceOther     FALSE      FALSE\n",
       "smokeYes      FALSE      FALSE\n",
       "htYes         FALSE      FALSE\n",
       "uiYes         FALSE      FALSE\n",
       "1 subsets of each size up to 8\n",
       "Selection Algorithm: exhaustive\n",
       "         age lwt ptl ftv raceBlack raceOther smokeYes htYes uiYes\n",
       "1  ( 1 ) \" \" \" \" \" \" \" \" \" \"       \" \"       \" \"      \" \"   \"*\"  \n",
       "2  ( 1 ) \" \" \" \" \" \" \" \" \" \"       \" \"       \" \"      \"*\"   \"*\"  \n",
       "3  ( 1 ) \" \" \"*\" \" \" \" \" \" \"       \" \"       \" \"      \"*\"   \"*\"  \n",
       "4  ( 1 ) \" \" \" \" \" \" \" \" \"*\"       \"*\"       \"*\"      \" \"   \"*\"  \n",
       "5  ( 1 ) \" \" \" \" \" \" \" \" \"*\"       \"*\"       \"*\"      \"*\"   \"*\"  \n",
       "6  ( 1 ) \" \" \"*\" \" \" \" \" \"*\"       \"*\"       \"*\"      \"*\"   \"*\"  \n",
       "7  ( 1 ) \" \" \"*\" \"*\" \" \" \"*\"       \"*\"       \"*\"      \"*\"   \"*\"  \n",
       "8  ( 1 ) \"*\" \"*\" \"*\" \" \" \"*\"       \"*\"       \"*\"      \"*\"   \"*\"  "
      ]
     },
     "metadata": {},
     "output_type": "display_data"
    },
    {
     "data": {
      "text/html": [
       "<table class=\"dataframe\">\n",
       "<caption>A data.frame: 8 × 3</caption>\n",
       "<thead>\n",
       "\t<tr><th scope=col>R^2</th><th scope=col>Adjusted R^2</th><th scope=col>Cp</th></tr>\n",
       "\t<tr><th scope=col>&lt;dbl&gt;</th><th scope=col>&lt;dbl&gt;</th><th scope=col>&lt;dbl&gt;</th></tr>\n",
       "</thead>\n",
       "<tbody>\n",
       "\t<tr><td>0.08061477</td><td>0.07569828</td><td>32.324944</td></tr>\n",
       "\t<tr><td>0.11225032</td><td>0.10270463</td><td>26.846910</td></tr>\n",
       "\t<tr><td>0.14782772</td><td>0.13400871</td><td>20.437098</td></tr>\n",
       "\t<tr><td>0.18905712</td><td>0.17142793</td><td>12.691264</td></tr>\n",
       "\t<tr><td>0.21364404</td><td>0.19215891</td><td> 8.879389</td></tr>\n",
       "\t<tr><td>0.24039446</td><td>0.21535251</td><td> 4.556107</td></tr>\n",
       "\t<tr><td>0.24156847</td><td>0.21223686</td><td> 6.278594</td></tr>\n",
       "\t<tr><td>0.24235985</td><td>0.20868696</td><td> 8.091525</td></tr>\n",
       "</tbody>\n",
       "</table>\n"
      ],
      "text/latex": [
       "A data.frame: 8 × 3\n",
       "\\begin{tabular}{lll}\n",
       " R\\textasciicircum{}2 & Adjusted R\\textasciicircum{}2 & Cp\\\\\n",
       " <dbl> & <dbl> & <dbl>\\\\\n",
       "\\hline\n",
       "\t 0.08061477 & 0.07569828 & 32.324944\\\\\n",
       "\t 0.11225032 & 0.10270463 & 26.846910\\\\\n",
       "\t 0.14782772 & 0.13400871 & 20.437098\\\\\n",
       "\t 0.18905712 & 0.17142793 & 12.691264\\\\\n",
       "\t 0.21364404 & 0.19215891 &  8.879389\\\\\n",
       "\t 0.24039446 & 0.21535251 &  4.556107\\\\\n",
       "\t 0.24156847 & 0.21223686 &  6.278594\\\\\n",
       "\t 0.24235985 & 0.20868696 &  8.091525\\\\\n",
       "\\end{tabular}\n"
      ],
      "text/markdown": [
       "\n",
       "A data.frame: 8 × 3\n",
       "\n",
       "| R^2 &lt;dbl&gt; | Adjusted R^2 &lt;dbl&gt; | Cp &lt;dbl&gt; |\n",
       "|---|---|---|\n",
       "| 0.08061477 | 0.07569828 | 32.324944 |\n",
       "| 0.11225032 | 0.10270463 | 26.846910 |\n",
       "| 0.14782772 | 0.13400871 | 20.437098 |\n",
       "| 0.18905712 | 0.17142793 | 12.691264 |\n",
       "| 0.21364404 | 0.19215891 |  8.879389 |\n",
       "| 0.24039446 | 0.21535251 |  4.556107 |\n",
       "| 0.24156847 | 0.21223686 |  6.278594 |\n",
       "| 0.24235985 | 0.20868696 |  8.091525 |\n",
       "\n"
      ],
      "text/plain": [
       "  R^2        Adjusted R^2 Cp       \n",
       "1 0.08061477 0.07569828   32.324944\n",
       "2 0.11225032 0.10270463   26.846910\n",
       "3 0.14782772 0.13400871   20.437098\n",
       "4 0.18905712 0.17142793   12.691264\n",
       "5 0.21364404 0.19215891    8.879389\n",
       "6 0.24039446 0.21535251    4.556107\n",
       "7 0.24156847 0.21223686    6.278594\n",
       "8 0.24235985 0.20868696    8.091525"
      ]
     },
     "metadata": {},
     "output_type": "display_data"
    }
   ],
   "source": [
    "#Compute the best subset selection.\n",
    "#PURPOSE: Use best subset selection to find the best model with different number of variables.\n",
    "model_selection<- regsubsets(bwt~., data=data_bwt, method=\"exhaustive\")\n",
    "summary_selection <- summary(model_selection)\n",
    "summary_selection\n",
    "#Compute values of each selection statistic for the best models with different number of variables.\n",
    "#PURPOSE: Select the best model over all possible models based on R^2, Adjusted R^2, and Cp criteria.\n",
    "selection_statistic<-data.frame(summary_selection$rsq,summary_selection$adjr2,summary_selection$cp)\n",
    "\n",
    "names(selection_statistic)[names(selection_statistic) == \"summary_selection.adjr2\"] <- \"Adjusted R^2\"\n",
    "names(selection_statistic)[names(selection_statistic) == \"summary_selection.cp\"] <- \"Cp\"\n",
    "names(selection_statistic)[names(selection_statistic) == \"summary_selection.rsq\"] <- \"R^2\"\n",
    "selection_statistic\n"
   ]
  },
  {
   "cell_type": "markdown",
   "metadata": {},
   "source": [
    "**Comment**\n",
    "- The selection statistics indicate that the model with 5 predictors, **lwt, race, smoke, ui, and ht** has the largest adjusted R^2, the smallest Cp statistic and relatively large R^2. Also, R^2 almost stop to increase from this model."
   ]
  },
  {
   "cell_type": "code",
   "execution_count": 7,
   "metadata": {},
   "outputs": [
    {
     "data": {
      "text/html": [
       "684199.454144176"
      ],
      "text/latex": [
       "684199.454144176"
      ],
      "text/markdown": [
       "684199.454144176"
      ],
      "text/plain": [
       "[1] 684199.5"
      ]
     },
     "metadata": {},
     "output_type": "display_data"
    },
    {
     "data": {
      "text/html": [
       "681045.19707827"
      ],
      "text/latex": [
       "681045.19707827"
      ],
      "text/markdown": [
       "681045.19707827"
      ],
      "text/plain": [
       "[1] 681045.2"
      ]
     },
     "metadata": {},
     "output_type": "display_data"
    }
   ],
   "source": [
    "\n",
    "#PURPOSE: Use 2-fold cross validation to compare the model with and without the numerical variable, lwt\n",
    "#Compute the 2-fold cross validation error of the model contains race, smoke, ui, and ht as predictors\n",
    "train <- 1:as.integer(dim(data_bwt)[1]/2)\n",
    "reg1 <- lm(bwt~race+smoke+ui+ht, data=data_bwt[train,])\n",
    "error1 <- sum((data_bwt$bwt[-train] - predict(reg1, data_bwt[-train,]))^2)\n",
    "reg2 <- lm(bwt~race+smoke+ui+ht, data=data_bwt[-train,])\n",
    "error2 <- sum((data_bwt$bwt[train] - predict(reg2, data_bwt[train,]))^2)\n",
    "error_without_lwt <- (error1 + error2)/dim(data_bwt)[1]\n",
    "error_without_lwt\n",
    "#Compute the 2-fold cross validation error of the model contains lwt, race, smoke, ui, and ht as predictors\n",
    "reg11 <- lm(bwt~lwt+race+smoke+ui+ht, data=data_bwt[train,])\n",
    "error11 <- sum((data_bwt$bwt[-train] - predict(reg11, data_bwt[-train,]))^2)\n",
    "reg22 <- lm(bwt~lwt+race+smoke+ui+ht, data=data_bwt[-train,])\n",
    "error22 <- sum((data_bwt$bwt[train] - predict(reg22, data_bwt[train,]))^2)\n",
    "error_with_lwt <- (error11 + error22)/dim(data_bwt)[1]\n",
    "error_with_lwt\n",
    "\n"
   ]
  },
  {
   "cell_type": "markdown",
   "metadata": {},
   "source": [
    "**Comments**\n",
    "- 2-fold cross validation are used to compare the top two models indicted by the selection statistics which are the model with lwt, race, smoke, ui, and ht as predictors versus the model contains race, smoke, ui, and ht as predictors. The results shows that the model with lwt has a smaller error than the one without.\n",
    "\n",
    "- We believe the mother’s weight is an important variable to include and is a low barrier measurement for hospitals to obtain that can help in predicting baby birth weight and were surprised that mothers age wasn’t a significant predictor.\n",
    "\n",
    "- Therefore, we select this model with one numerical variable **lwt** and four categorical variables **race, smoke, ui, and ht** as our model to predict the baby's birth weight."
   ]
  },
  {
   "cell_type": "code",
   "execution_count": 8,
   "metadata": {},
   "outputs": [
    {
     "data": {
      "text/plain": [
       "\n",
       "Call:\n",
       "lm(formula = bwt ~ lwt + race + smoke + ui + ht, data = data_bwt)\n",
       "\n",
       "Residuals:\n",
       "     Min       1Q   Median       3Q      Max \n",
       "-1842.14  -433.19    67.09   459.21  1631.03 \n",
       "\n",
       "Coefficients:\n",
       "            Estimate Std. Error t value Pr(>|t|)    \n",
       "(Intercept) 2837.264    243.676  11.644  < 2e-16 ***\n",
       "lwt            4.242      1.675   2.532 0.012198 *  \n",
       "raceBlack   -475.058    145.603  -3.263 0.001318 ** \n",
       "raceOther   -348.150    112.361  -3.099 0.002254 ** \n",
       "smokeYes    -356.321    103.444  -3.445 0.000710 ***\n",
       "uiYes       -525.524    134.675  -3.902 0.000134 ***\n",
       "htYes       -585.193    199.644  -2.931 0.003810 ** \n",
       "---\n",
       "Signif. codes:  0 '***' 0.001 '**' 0.01 '*' 0.05 '.' 0.1 ' ' 1\n",
       "\n",
       "Residual standard error: 645.9 on 182 degrees of freedom\n",
       "Multiple R-squared:  0.2404,\tAdjusted R-squared:  0.2154 \n",
       "F-statistic:   9.6 on 6 and 182 DF,  p-value: 3.601e-09\n"
      ]
     },
     "metadata": {},
     "output_type": "display_data"
    }
   ],
   "source": [
    "model<- lm(bwt~lwt+race+smoke+ui+ht, data=data_bwt)\n",
    "summary<-summary(model)\n",
    "summary\n"
   ]
  },
  {
   "cell_type": "markdown",
   "metadata": {},
   "source": [
    "#### 2.6 Residual Plot Analysis"
   ]
  },
  {
   "cell_type": "markdown",
   "metadata": {},
   "source": [
    "TODO: Residual plots. Discuss whether residual assumptions are valid here.  \n",
    "  \n",
    "If necessary, re-fit model after transforming a variable, etc."
   ]
  },
  {
   "cell_type": "markdown",
   "metadata": {},
   "source": [
    "## 3. Conclusion"
   ]
  },
  {
   "cell_type": "markdown",
   "metadata": {},
   "source": [
    "!!! TO BE COMPLETED (last)  \n",
    "\n",
    "Should tie back to research question"
   ]
  }
 ],
 "metadata": {
  "kernelspec": {
   "display_name": "R",
   "language": "R",
   "name": "ir"
  },
  "language_info": {
   "codemirror_mode": "r",
   "file_extension": ".r",
   "mimetype": "text/x-r-source",
   "name": "R",
   "pygments_lexer": "r",
   "version": "3.6.3"
  }
 },
 "nbformat": 4,
 "nbformat_minor": 4
}
