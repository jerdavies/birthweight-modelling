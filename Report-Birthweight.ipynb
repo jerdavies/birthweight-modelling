{
 "cells": [
  {
   "cell_type": "markdown",
   "metadata": {},
   "source": [
    "# Mothers’ Lifestyle Characteristics Impact on Infant Birth Weight"
   ]
  },
  {
   "cell_type": "markdown",
   "metadata": {},
   "source": [
    "Team B1: Ayingfu (#82951880), Bryant Hartono (#66162710), Jeremy Davies (#74883935), Jingxuan Ma (#49183288)"
   ]
  },
  {
   "cell_type": "markdown",
   "metadata": {},
   "source": [
    "## 1. Introduction"
   ]
  },
  {
   "cell_type": "markdown",
   "metadata": {},
   "source": [
    "#### 1.1 Data Source"
   ]
  },
  {
   "cell_type": "markdown",
   "metadata": {},
   "source": [
    "The dataset for this project is the “birthwt” dataset provided with the Support Functions and Datasets for Venables and Ripley's MASS package in R."
   ]
  },
  {
   "cell_type": "markdown",
   "metadata": {},
   "source": [
    "Relevant citation for the MASS package:  \n",
    "Venables WN, Ripley BD (2002). Modern Applied Statistics with S, Fourth edition. Springer, New York. ISBN 0-387-95457-0, https://www.stats.ox.ac.uk/pub/MASS4/."
   ]
  },
  {
   "cell_type": "markdown",
   "metadata": {},
   "source": [
    "#### 1.2 Dataset Description"
   ]
  },
  {
   "cell_type": "markdown",
   "metadata": {},
   "source": [
    "**Dataset detail**  \n",
    "The dataset consists of 189 observations with 10 columns (refer to column details explained below). Data was collected at Baystate Medical Center, Springfield, Massachusetts during 1986, with no specific setting. Study subjects were 189 mothers, 59 of which had low birth weight babies and 130 of which had normal birth weight babies. Characteristics of the mother’s lifestyle and health factors were collected during the pregnancy and the weight of the newborn infant was recorded at birth."
   ]
  },
  {
   "cell_type": "markdown",
   "metadata": {},
   "source": [
    "**Response variable**  \n",
    "Neonate birth weight (‘bwt’), measured in grams."
   ]
  },
  {
   "cell_type": "markdown",
   "metadata": {},
   "source": [
    "**Potential explanatory variables**  \n",
    "1) Continuous variables  \n",
    "- age: Mother’s age (years)\n",
    "- lwt: Mother's weight (pounds) at last menstrual period\n",
    "- ptl: Number of previous premature labors\n",
    "- ftv: Number of physician visits during the first trimester  \n",
    "  \n",
    "2) Categorical variables  \n",
    "- race: Mother's race ( “1” = white, “2” = black, “3” = other) \n",
    "- smoke: Smoking status during the pregnancy. (“1”=Yes,”0”= No)\n",
    "- ht: History of hypertension. (“1”=Yes,”0”= No)\n",
    "- ui: Presence of uterine irritability. (“1”=Yes,”0”= No)"
   ]
  },
  {
   "cell_type": "markdown",
   "metadata": {},
   "source": [
    "#### 1.3 Research Question / Motivation"
   ]
  },
  {
   "cell_type": "markdown",
   "metadata": {},
   "source": [
    "There is some evidence (and some speculation) to suggest that heavier babies have lower infant mortality rates and perhaps also lower risk of cardiovascular disease later in life. Therefore, our group is interested in studying the factors that explain an infant’s birth weight. In particular, we are interested in whether the weight of the mother, the mother’s race, the smoking status of the mother, among other variables, affect the infant birth weight.  \n",
    "  \n",
    "If we can identify the contributing factors and reasonably predict a baby’s neonate birth weight, this would enable better preparation of healthcare at birth. For example, if we develop a model that predicts a baby will have a low birth weight, then the obstetrician could recommend for the mother to have the birth at a dedicated neonatal ward, where there are more specialized resources to ensure a healthy birth."
   ]
  },
  {
   "cell_type": "markdown",
   "metadata": {},
   "source": [
    "## 2. Analysis"
   ]
  },
  {
   "cell_type": "markdown",
   "metadata": {},
   "source": [
    "#### 2.1 Reading in data"
   ]
  },
  {
   "cell_type": "code",
   "execution_count": 1,
   "metadata": {},
   "outputs": [
    {
     "name": "stderr",
     "output_type": "stream",
     "text": [
      "-- \u001b[1mAttaching packages\u001b[22m ------------------------------------------------------------------------------- tidyverse 1.3.1 --\n",
      "\n",
      "\u001b[32mv\u001b[39m \u001b[34mggplot2\u001b[39m 3.3.3     \u001b[32mv\u001b[39m \u001b[34mpurrr  \u001b[39m 0.3.4\n",
      "\u001b[32mv\u001b[39m \u001b[34mtibble \u001b[39m 3.1.0     \u001b[32mv\u001b[39m \u001b[34mdplyr  \u001b[39m 1.0.5\n",
      "\u001b[32mv\u001b[39m \u001b[34mtidyr  \u001b[39m 1.1.3     \u001b[32mv\u001b[39m \u001b[34mstringr\u001b[39m 1.4.0\n",
      "\u001b[32mv\u001b[39m \u001b[34mreadr  \u001b[39m 1.4.0     \u001b[32mv\u001b[39m \u001b[34mforcats\u001b[39m 0.5.1\n",
      "\n",
      "-- \u001b[1mConflicts\u001b[22m ---------------------------------------------------------------------------------- tidyverse_conflicts() --\n",
      "\u001b[31mx\u001b[39m \u001b[34mdplyr\u001b[39m::\u001b[32mfilter()\u001b[39m masks \u001b[34mstats\u001b[39m::filter()\n",
      "\u001b[31mx\u001b[39m \u001b[34mdplyr\u001b[39m::\u001b[32mlag()\u001b[39m    masks \u001b[34mstats\u001b[39m::lag()\n",
      "\n",
      "-- \u001b[1mAttaching packages\u001b[22m ------------------------------------------------------------------------------ tidymodels 0.1.2 --\n",
      "\n",
      "\u001b[32mv\u001b[39m \u001b[34mbroom    \u001b[39m 0.7.6      \u001b[32mv\u001b[39m \u001b[34mrecipes  \u001b[39m 0.1.15\n",
      "\u001b[32mv\u001b[39m \u001b[34mdials    \u001b[39m 0.0.9      \u001b[32mv\u001b[39m \u001b[34mrsample  \u001b[39m 0.0.9 \n",
      "\u001b[32mv\u001b[39m \u001b[34minfer    \u001b[39m 0.5.4      \u001b[32mv\u001b[39m \u001b[34mtune     \u001b[39m 0.1.3 \n",
      "\u001b[32mv\u001b[39m \u001b[34mmodeldata\u001b[39m 0.1.0      \u001b[32mv\u001b[39m \u001b[34mworkflows\u001b[39m 0.2.2 \n",
      "\u001b[32mv\u001b[39m \u001b[34mparsnip  \u001b[39m 0.1.5      \u001b[32mv\u001b[39m \u001b[34myardstick\u001b[39m 0.0.8 \n",
      "\n",
      "-- \u001b[1mConflicts\u001b[22m --------------------------------------------------------------------------------- tidymodels_conflicts() --\n",
      "\u001b[31mx\u001b[39m \u001b[34mscales\u001b[39m::\u001b[32mdiscard()\u001b[39m masks \u001b[34mpurrr\u001b[39m::discard()\n",
      "\u001b[31mx\u001b[39m \u001b[34mdplyr\u001b[39m::\u001b[32mfilter()\u001b[39m   masks \u001b[34mstats\u001b[39m::filter()\n",
      "\u001b[31mx\u001b[39m \u001b[34mrecipes\u001b[39m::\u001b[32mfixed()\u001b[39m  masks \u001b[34mstringr\u001b[39m::fixed()\n",
      "\u001b[31mx\u001b[39m \u001b[34mdplyr\u001b[39m::\u001b[32mlag()\u001b[39m      masks \u001b[34mstats\u001b[39m::lag()\n",
      "\u001b[31mx\u001b[39m \u001b[34myardstick\u001b[39m::\u001b[32mspec()\u001b[39m masks \u001b[34mreadr\u001b[39m::spec()\n",
      "\u001b[31mx\u001b[39m \u001b[34mrecipes\u001b[39m::\u001b[32mstep()\u001b[39m   masks \u001b[34mstats\u001b[39m::step()\n",
      "\n",
      "\n",
      "Attaching package: 'MASS'\n",
      "\n",
      "\n",
      "The following object is masked from 'package:dplyr':\n",
      "\n",
      "    select\n",
      "\n",
      "\n"
     ]
    }
   ],
   "source": [
    "# Necessary libraries to install:\n",
    "# - 'tidyverse', 'cowplot' , 'tidymodels', 'repr', 'MASS', 'leaps'\n",
    "\n",
    "# Load in libaries\n",
    "library(tidyverse)\n",
    "library(cowplot)\n",
    "library(tidymodels)\n",
    "library(repr)\n",
    "library(MASS)\n",
    "\n",
    "# Suppress table outputs to a manageable # of rows\n",
    "options(repr.matrix.max.rows = 10)\n",
    "\n",
    "# Read data\n",
    "data <- birthwt"
   ]
  },
  {
   "cell_type": "markdown",
   "metadata": {},
   "source": [
    "#### 2.2 Clean and wrangle data"
   ]
  },
  {
   "cell_type": "code",
   "execution_count": 6,
   "metadata": {},
   "outputs": [
    {
     "data": {
      "text/html": [
       "<table class=\"dataframe\">\n",
       "<caption>A data.frame: 189 × 9</caption>\n",
       "<thead>\n",
       "\t<tr><th></th><th scope=col>age</th><th scope=col>lwt</th><th scope=col>ptl</th><th scope=col>ftv</th><th scope=col>race</th><th scope=col>smoke</th><th scope=col>ht</th><th scope=col>ui</th><th scope=col>bwt</th></tr>\n",
       "\t<tr><th></th><th scope=col>&lt;int&gt;</th><th scope=col>&lt;int&gt;</th><th scope=col>&lt;int&gt;</th><th scope=col>&lt;int&gt;</th><th scope=col>&lt;fct&gt;</th><th scope=col>&lt;fct&gt;</th><th scope=col>&lt;fct&gt;</th><th scope=col>&lt;fct&gt;</th><th scope=col>&lt;int&gt;</th></tr>\n",
       "</thead>\n",
       "<tbody>\n",
       "\t<tr><th scope=row>85</th><td>19</td><td>182</td><td>0</td><td>0</td><td>Black</td><td>No </td><td>No</td><td>Yes</td><td>2523</td></tr>\n",
       "\t<tr><th scope=row>86</th><td>33</td><td>155</td><td>0</td><td>3</td><td>Other</td><td>No </td><td>No</td><td>No </td><td>2551</td></tr>\n",
       "\t<tr><th scope=row>87</th><td>20</td><td>105</td><td>0</td><td>1</td><td>White</td><td>Yes</td><td>No</td><td>No </td><td>2557</td></tr>\n",
       "\t<tr><th scope=row>88</th><td>21</td><td>108</td><td>0</td><td>2</td><td>White</td><td>Yes</td><td>No</td><td>Yes</td><td>2594</td></tr>\n",
       "\t<tr><th scope=row>89</th><td>18</td><td>107</td><td>0</td><td>0</td><td>White</td><td>Yes</td><td>No</td><td>Yes</td><td>2600</td></tr>\n",
       "\t<tr><th scope=row>⋮</th><td>⋮</td><td>⋮</td><td>⋮</td><td>⋮</td><td>⋮</td><td>⋮</td><td>⋮</td><td>⋮</td><td>⋮</td></tr>\n",
       "\t<tr><th scope=row>79</th><td>28</td><td> 95</td><td>0</td><td>2</td><td>White</td><td>Yes</td><td>No </td><td>No</td><td>2466</td></tr>\n",
       "\t<tr><th scope=row>81</th><td>14</td><td>100</td><td>0</td><td>2</td><td>Other</td><td>No </td><td>No </td><td>No</td><td>2495</td></tr>\n",
       "\t<tr><th scope=row>82</th><td>23</td><td> 94</td><td>0</td><td>0</td><td>Other</td><td>Yes</td><td>No </td><td>No</td><td>2495</td></tr>\n",
       "\t<tr><th scope=row>83</th><td>17</td><td>142</td><td>0</td><td>0</td><td>Black</td><td>No </td><td>Yes</td><td>No</td><td>2495</td></tr>\n",
       "\t<tr><th scope=row>84</th><td>21</td><td>130</td><td>0</td><td>3</td><td>White</td><td>Yes</td><td>Yes</td><td>No</td><td>2495</td></tr>\n",
       "</tbody>\n",
       "</table>\n"
      ],
      "text/latex": [
       "A data.frame: 189 × 9\n",
       "\\begin{tabular}{r|lllllllll}\n",
       "  & age & lwt & ptl & ftv & race & smoke & ht & ui & bwt\\\\\n",
       "  & <int> & <int> & <int> & <int> & <fct> & <fct> & <fct> & <fct> & <int>\\\\\n",
       "\\hline\n",
       "\t85 & 19 & 182 & 0 & 0 & Black & No  & No & Yes & 2523\\\\\n",
       "\t86 & 33 & 155 & 0 & 3 & Other & No  & No & No  & 2551\\\\\n",
       "\t87 & 20 & 105 & 0 & 1 & White & Yes & No & No  & 2557\\\\\n",
       "\t88 & 21 & 108 & 0 & 2 & White & Yes & No & Yes & 2594\\\\\n",
       "\t89 & 18 & 107 & 0 & 0 & White & Yes & No & Yes & 2600\\\\\n",
       "\t⋮ & ⋮ & ⋮ & ⋮ & ⋮ & ⋮ & ⋮ & ⋮ & ⋮ & ⋮\\\\\n",
       "\t79 & 28 &  95 & 0 & 2 & White & Yes & No  & No & 2466\\\\\n",
       "\t81 & 14 & 100 & 0 & 2 & Other & No  & No  & No & 2495\\\\\n",
       "\t82 & 23 &  94 & 0 & 0 & Other & Yes & No  & No & 2495\\\\\n",
       "\t83 & 17 & 142 & 0 & 0 & Black & No  & Yes & No & 2495\\\\\n",
       "\t84 & 21 & 130 & 0 & 3 & White & Yes & Yes & No & 2495\\\\\n",
       "\\end{tabular}\n"
      ],
      "text/markdown": [
       "\n",
       "A data.frame: 189 × 9\n",
       "\n",
       "| <!--/--> | age &lt;int&gt; | lwt &lt;int&gt; | ptl &lt;int&gt; | ftv &lt;int&gt; | race &lt;fct&gt; | smoke &lt;fct&gt; | ht &lt;fct&gt; | ui &lt;fct&gt; | bwt &lt;int&gt; |\n",
       "|---|---|---|---|---|---|---|---|---|---|\n",
       "| 85 | 19 | 182 | 0 | 0 | Black | No  | No | Yes | 2523 |\n",
       "| 86 | 33 | 155 | 0 | 3 | Other | No  | No | No  | 2551 |\n",
       "| 87 | 20 | 105 | 0 | 1 | White | Yes | No | No  | 2557 |\n",
       "| 88 | 21 | 108 | 0 | 2 | White | Yes | No | Yes | 2594 |\n",
       "| 89 | 18 | 107 | 0 | 0 | White | Yes | No | Yes | 2600 |\n",
       "| ⋮ | ⋮ | ⋮ | ⋮ | ⋮ | ⋮ | ⋮ | ⋮ | ⋮ | ⋮ |\n",
       "| 79 | 28 |  95 | 0 | 2 | White | Yes | No  | No | 2466 |\n",
       "| 81 | 14 | 100 | 0 | 2 | Other | No  | No  | No | 2495 |\n",
       "| 82 | 23 |  94 | 0 | 0 | Other | Yes | No  | No | 2495 |\n",
       "| 83 | 17 | 142 | 0 | 0 | Black | No  | Yes | No | 2495 |\n",
       "| 84 | 21 | 130 | 0 | 3 | White | Yes | Yes | No | 2495 |\n",
       "\n"
      ],
      "text/plain": [
       "   age lwt ptl ftv race  smoke ht  ui  bwt \n",
       "85 19  182 0   0   Black No    No  Yes 2523\n",
       "86 33  155 0   3   Other No    No  No  2551\n",
       "87 20  105 0   1   White Yes   No  No  2557\n",
       "88 21  108 0   2   White Yes   No  Yes 2594\n",
       "89 18  107 0   0   White Yes   No  Yes 2600\n",
       "<U+22EE>  <U+22EE> <U+22EE> <U+22EE> <U+22EE> <U+22EE> <U+22EE> <U+22EE> <U+22EE> <U+22EE>\n",
       "79 28   95 0   2   White Yes   No  No  2466\n",
       "81 14  100 0   2   Other No    No  No  2495\n",
       "82 23   94 0   0   Other Yes   No  No  2495\n",
       "83 17  142 0   0   Black No    Yes No  2495\n",
       "84 21  130 0   3   White Yes   Yes No  2495"
      ]
     },
     "metadata": {},
     "output_type": "display_data"
    }
   ],
   "source": [
    "# Select only potentially meaningful columns (variables) and re-name categorical levels for easier understanding\n",
    "data_selected <- data %>%\n",
    "    dplyr::select(age, lwt, ptl, ftv, race, smoke, ht, ui, bwt) %>%\n",
    "    mutate(race = case_when(\n",
    "      race == 1  ~ \"White\",\n",
    "      race == 2  ~ \"Black\",\n",
    "      TRUE       ~ \"Other\"\n",
    "    ), \n",
    "    smoke = case_when(smoke == 0  ~ \"No\", smoke == 1  ~ \"Yes\"), \n",
    "    ht = case_when(ht == 0  ~ \"No\", ht == 1  ~ \"Yes\"),\n",
    "    ui = case_when(ui == 0  ~ \"No\", ui == 1  ~ \"Yes\")\n",
    ")\n",
    "\n",
    "# Convert categorical variables to factors in R\n",
    "data_selected$race <- as.factor(data_selected$race)\n",
    "data_selected$smoke <- as.factor(data_selected$smoke)\n",
    "data_selected$ht <- as.factor(data_selected$ht)\n",
    "data_selected$ui <- as.factor(data_selected$ui)\n",
    "\n",
    "#  relevel race based on highest observation count\n",
    "data_selected$race <- relevel(data_selected$race, ref=\"White\")  \n",
    "\n",
    "# Inspect clean dataframe\n",
    "data_selected"
   ]
  },
  {
   "cell_type": "code",
   "execution_count": null,
   "metadata": {},
   "outputs": [],
   "source": []
  },
  {
   "cell_type": "markdown",
   "metadata": {},
   "source": [
    "## 3. Conclusion"
   ]
  }
 ],
 "metadata": {
  "kernelspec": {
   "display_name": "R",
   "language": "R",
   "name": "ir"
  },
  "language_info": {
   "codemirror_mode": "r",
   "file_extension": ".r",
   "mimetype": "text/x-r-source",
   "name": "R",
   "pygments_lexer": "r",
   "version": "3.6.3"
  }
 },
 "nbformat": 4,
 "nbformat_minor": 4
}
