{
 "cells": [
  {
   "cell_type": "markdown",
   "metadata": {},
   "source": [
    "# Mothers’ Lifestyle Characteristics Impact on Infant Birth Weight"
   ]
  },
  {
   "cell_type": "markdown",
   "metadata": {},
   "source": [
    "Team B1: Ayingfu (#82951880), Bryant Hartono (#66162710), Jeremy Davies (#74883935), Jingxuan Ma (#49183288)"
   ]
  },
  {
   "cell_type": "markdown",
   "metadata": {},
   "source": [
    "## 1. Introduction"
   ]
  },
  {
   "cell_type": "markdown",
   "metadata": {},
   "source": [
    "#### 1.1 Data Source"
   ]
  },
  {
   "cell_type": "markdown",
   "metadata": {},
   "source": [
    "The dataset for this project is the “birthwt” dataset provided with the Support Functions and Datasets for Venables and Ripley's MASS package in R."
   ]
  },
  {
   "cell_type": "markdown",
   "metadata": {},
   "source": [
    "Relevant citation for the MASS package:  \n",
    "Venables WN, Ripley BD (2002). Modern Applied Statistics with S, Fourth edition. Springer, New York. ISBN 0-387-95457-0, https://www.stats.ox.ac.uk/pub/MASS4/."
   ]
  },
  {
   "cell_type": "markdown",
   "metadata": {},
   "source": [
    "#### 1.2 Dataset Description"
   ]
  },
  {
   "cell_type": "markdown",
   "metadata": {},
   "source": [
    "**Dataset detail**  \n",
    "The dataset consists of 189 observations with 10 columns (refer to column details explained below). Data was collected at Baystate Medical Center, Springfield, Massachusetts during 1986, with no specific setting. Study subjects were 189 mothers, 59 of which had low birth weight babies and 130 of which had normal birth weight babies. Characteristics of the mother’s lifestyle and health factors were collected during the pregnancy and the weight of the newborn infant was recorded at birth."
   ]
  },
  {
   "cell_type": "markdown",
   "metadata": {},
   "source": [
    "**Response variable**  \n",
    "Neonate birth weight (‘bwt’), measured in grams."
   ]
  },
  {
   "cell_type": "markdown",
   "metadata": {},
   "source": [
    "**Potential explanatory variables**  \n",
    "1) Continuous variables  \n",
    "- age: Mother’s age (years)\n",
    "- lwt: Mother's weight (pounds) at last menstrual period\n",
    "- ptl: Number of previous premature labors\n",
    "- ftv: Number of physician visits during the first trimester  \n",
    "  \n",
    "2) Categorical variables  \n",
    "- race: Mother's race ( “1” = white, “2” = black, “3” = other) \n",
    "- smoke: Smoking status during the pregnancy. (“1”=Yes,”0”= No)\n",
    "- ht: History of hypertension. (“1”=Yes,”0”= No)\n",
    "- ui: Presence of uterine irritability. (“1”=Yes,”0”= No)"
   ]
  },
  {
   "cell_type": "markdown",
   "metadata": {},
   "source": [
    "#### 1.3 Research Question / Motivation"
   ]
  },
  {
   "cell_type": "markdown",
   "metadata": {},
   "source": [
    "There is some evidence (and some speculation) to suggest that heavier babies have lower infant mortality rates and perhaps also lower risk of cardiovascular disease later in life. Therefore, our group is interested in studying the factors that explain an infant’s birth weight. In particular, we are interested in whether the weight of the mother, the mother’s race, the smoking status of the mother, among other variables, affect the infant birth weight.  \n",
    "  \n",
    "If we can identify the contributing factors and reasonably predict a baby’s neonate birth weight, this would enable better preparation of healthcare at birth. For example, if we develop a model that predicts a baby will have a low birth weight, then the obstetrician could recommend for the mother to have the birth at a dedicated neonatal ward, where there are more specialized resources to ensure a healthy birth."
   ]
  },
  {
   "cell_type": "markdown",
   "metadata": {},
   "source": [
    "## 2. Analysis"
   ]
  },
  {
   "cell_type": "markdown",
   "metadata": {},
   "source": [
    "#### 2.1 Reading in data"
   ]
  },
  {
   "cell_type": "code",
   "execution_count": 23,
   "metadata": {},
   "outputs": [],
   "source": [
    "# Necessary libraries to install:\n",
    "# - 'tidyverse', 'cowplot' , 'tidymodels', 'repr', 'MASS', 'leaps', 'GGally'\n",
    "\n",
    "# Load in libaries\n",
    "library(tidyverse)\n",
    "library(cowplot)\n",
    "library(tidymodels)\n",
    "library(repr)\n",
    "library(MASS)\n",
    "library(GGally)\n",
    "\n",
    "# Suppress table outputs to a manageable # of rows\n",
    "options(repr.matrix.max.rows = 10)\n",
    "\n",
    "# Read data\n",
    "raw_data <- birthwt"
   ]
  },
  {
   "cell_type": "markdown",
   "metadata": {},
   "source": [
    "#### 2.2 Clean and wrangle data"
   ]
  },
  {
   "cell_type": "code",
   "execution_count": 24,
   "metadata": {},
   "outputs": [
    {
     "data": {
      "text/html": [
       "<table class=\"dataframe\">\n",
       "<caption>A data.frame: 5 × 9</caption>\n",
       "<thead>\n",
       "\t<tr><th></th><th scope=col>age</th><th scope=col>lwt</th><th scope=col>ptl</th><th scope=col>ftv</th><th scope=col>race</th><th scope=col>smoke</th><th scope=col>ht</th><th scope=col>ui</th><th scope=col>bwt</th></tr>\n",
       "\t<tr><th></th><th scope=col>&lt;int&gt;</th><th scope=col>&lt;int&gt;</th><th scope=col>&lt;int&gt;</th><th scope=col>&lt;int&gt;</th><th scope=col>&lt;fct&gt;</th><th scope=col>&lt;fct&gt;</th><th scope=col>&lt;fct&gt;</th><th scope=col>&lt;fct&gt;</th><th scope=col>&lt;int&gt;</th></tr>\n",
       "</thead>\n",
       "<tbody>\n",
       "\t<tr><th scope=row>85</th><td>19</td><td>182</td><td>0</td><td>0</td><td>Black</td><td>No </td><td>No</td><td>Yes</td><td>2523</td></tr>\n",
       "\t<tr><th scope=row>86</th><td>33</td><td>155</td><td>0</td><td>3</td><td>Other</td><td>No </td><td>No</td><td>No </td><td>2551</td></tr>\n",
       "\t<tr><th scope=row>87</th><td>20</td><td>105</td><td>0</td><td>1</td><td>White</td><td>Yes</td><td>No</td><td>No </td><td>2557</td></tr>\n",
       "\t<tr><th scope=row>88</th><td>21</td><td>108</td><td>0</td><td>2</td><td>White</td><td>Yes</td><td>No</td><td>Yes</td><td>2594</td></tr>\n",
       "\t<tr><th scope=row>89</th><td>18</td><td>107</td><td>0</td><td>0</td><td>White</td><td>Yes</td><td>No</td><td>Yes</td><td>2600</td></tr>\n",
       "</tbody>\n",
       "</table>\n"
      ],
      "text/latex": [
       "A data.frame: 5 × 9\n",
       "\\begin{tabular}{r|lllllllll}\n",
       "  & age & lwt & ptl & ftv & race & smoke & ht & ui & bwt\\\\\n",
       "  & <int> & <int> & <int> & <int> & <fct> & <fct> & <fct> & <fct> & <int>\\\\\n",
       "\\hline\n",
       "\t85 & 19 & 182 & 0 & 0 & Black & No  & No & Yes & 2523\\\\\n",
       "\t86 & 33 & 155 & 0 & 3 & Other & No  & No & No  & 2551\\\\\n",
       "\t87 & 20 & 105 & 0 & 1 & White & Yes & No & No  & 2557\\\\\n",
       "\t88 & 21 & 108 & 0 & 2 & White & Yes & No & Yes & 2594\\\\\n",
       "\t89 & 18 & 107 & 0 & 0 & White & Yes & No & Yes & 2600\\\\\n",
       "\\end{tabular}\n"
      ],
      "text/markdown": [
       "\n",
       "A data.frame: 5 × 9\n",
       "\n",
       "| <!--/--> | age &lt;int&gt; | lwt &lt;int&gt; | ptl &lt;int&gt; | ftv &lt;int&gt; | race &lt;fct&gt; | smoke &lt;fct&gt; | ht &lt;fct&gt; | ui &lt;fct&gt; | bwt &lt;int&gt; |\n",
       "|---|---|---|---|---|---|---|---|---|---|\n",
       "| 85 | 19 | 182 | 0 | 0 | Black | No  | No | Yes | 2523 |\n",
       "| 86 | 33 | 155 | 0 | 3 | Other | No  | No | No  | 2551 |\n",
       "| 87 | 20 | 105 | 0 | 1 | White | Yes | No | No  | 2557 |\n",
       "| 88 | 21 | 108 | 0 | 2 | White | Yes | No | Yes | 2594 |\n",
       "| 89 | 18 | 107 | 0 | 0 | White | Yes | No | Yes | 2600 |\n",
       "\n"
      ],
      "text/plain": [
       "   age lwt ptl ftv race  smoke ht ui  bwt \n",
       "85 19  182 0   0   Black No    No Yes 2523\n",
       "86 33  155 0   3   Other No    No No  2551\n",
       "87 20  105 0   1   White Yes   No No  2557\n",
       "88 21  108 0   2   White Yes   No Yes 2594\n",
       "89 18  107 0   0   White Yes   No Yes 2600"
      ]
     },
     "metadata": {},
     "output_type": "display_data"
    }
   ],
   "source": [
    "# Select only potentially meaningful columns (variables) and re-name categorical levels for easier understanding\n",
    "data_bwt <- raw_data %>%\n",
    "    dplyr::select(age, lwt, ptl, ftv, race, smoke, ht, ui, bwt) %>%\n",
    "    mutate(race = case_when(\n",
    "      race == 1  ~ \"White\",\n",
    "      race == 2  ~ \"Black\",\n",
    "      TRUE       ~ \"Other\"\n",
    "    ), \n",
    "    smoke = case_when(smoke == 0  ~ \"No\", smoke == 1  ~ \"Yes\"), \n",
    "    ht = case_when(ht == 0  ~ \"No\", ht == 1  ~ \"Yes\"),\n",
    "    ui = case_when(ui == 0  ~ \"No\", ui == 1  ~ \"Yes\")\n",
    ")\n",
    "\n",
    "# Convert categorical variables to factors in R\n",
    "data_bwt$race <- as.factor(data_bwt$race)\n",
    "data_bwt$smoke <- as.factor(data_bwt$smoke)\n",
    "data_bwt$ht <- as.factor(data_bwt$ht)\n",
    "data_bwt$ui <- as.factor(data_bwt$ui)\n",
    "\n",
    "#  relevel race based on highest observation count\n",
    "data_bwt$race <- relevel(data_bwt$race, ref=\"White\")  \n",
    "\n",
    "# Inspect clean dataframe\n",
    "head(data_bwt,5)"
   ]
  },
  {
   "cell_type": "markdown",
   "metadata": {},
   "source": [
    "#### 2.3 Tabular Summary of Data"
   ]
  },
  {
   "cell_type": "code",
   "execution_count": 25,
   "metadata": {},
   "outputs": [
    {
     "data": {
      "text/plain": [
       "      age             lwt             ptl              ftv            race   \n",
       " Min.   :14.00   Min.   : 80.0   Min.   :0.0000   Min.   :0.0000   White:96  \n",
       " 1st Qu.:19.00   1st Qu.:110.0   1st Qu.:0.0000   1st Qu.:0.0000   Black:26  \n",
       " Median :23.00   Median :121.0   Median :0.0000   Median :0.0000   Other:67  \n",
       " Mean   :23.24   Mean   :129.8   Mean   :0.1958   Mean   :0.7937             \n",
       " 3rd Qu.:26.00   3rd Qu.:140.0   3rd Qu.:0.0000   3rd Qu.:1.0000             \n",
       " Max.   :45.00   Max.   :250.0   Max.   :3.0000   Max.   :6.0000             \n",
       " smoke       ht        ui           bwt      \n",
       " No :115   No :177   No :161   Min.   : 709  \n",
       " Yes: 74   Yes: 12   Yes: 28   1st Qu.:2414  \n",
       "                               Median :2977  \n",
       "                               Mean   :2945  \n",
       "                               3rd Qu.:3487  \n",
       "                               Max.   :4990  "
      ]
     },
     "metadata": {},
     "output_type": "display_data"
    }
   ],
   "source": [
    "summary(data_bwt)"
   ]
  },
  {
   "cell_type": "markdown",
   "metadata": {},
   "source": [
    "#### 2.4 Visual Summary of Data"
   ]
  },
  {
   "cell_type": "markdown",
   "metadata": {},
   "source": [
    "##### 2.4.1 Scatterplot grid for numeric variables vs. birthweight"
   ]
  },
  {
   "cell_type": "code",
   "execution_count": 26,
   "metadata": {},
   "outputs": [
    {
     "data": {
      "image/png": "[encoded data removed]",
      "text/plain": [
       "plot without title"
      ]
     },
     "metadata": {
      "image/png": {
       "height": 720,
       "width": 720
      }
     },
     "output_type": "display_data"
    }
   ],
   "source": [
    "# Set plot output size\n",
    "options(repr.plot.width = 12, repr.plot.height = 12)\n",
    "\n",
    "# Get df with only the numeric variables (exclude factor vars for now)\n",
    "data_bwt_numeric <- data_bwt %>%\n",
    "    dplyr::select(bwt, age, lwt, ptl, ftv)\n",
    "    \n",
    "\n",
    "# Construct visual correlation matrix of only numeric variables\n",
    "# PURPOSE: Explore correlations between explanatory variables themselves and with response variable bwt (birthweight)\n",
    "ggpairs(data_bwt_numeric,\n",
    "        title = \"Visual Correlation Matrix\",\n",
    "         upper = list(continuous = wrap(\"cor\", size = 8)))  +\n",
    "theme(text = element_text(size=12))"
   ]
  },
  {
   "cell_type": "markdown",
   "metadata": {},
   "source": [
    "**Comments**  \n",
    "- The baby's birth weight has a weak, positive correlation with with the mother's weight at the last menstrual period (r=0.18). This makes intuitive sense because we would expect on average that mothers of larger stature tend to have larger newborn babies.\n",
    "- The baby's birth weight has a weak, positive correlation with the mother's age (r=0.09).\n",
    "- The baby's birth weight has a weak, negative correlation with the number of previous premature labours (r=-0.155). This indicates that a mother who was prone to premature labours in the past may be prone to it again.\n",
    "- We also remark the presence of collinearity between explantory variables of mother's age and # of physician visits in the first trimester (r=0.215), and the mother's age and her weight (r=0.18). We will bear these trends in mind when fitting linear models in later sections of this report. \n",
    "  \n",
    "Note: The diagonal terms of the above chart represent a distribution of each respective numeric variable."
   ]
  },
  {
   "cell_type": "markdown",
   "metadata": {},
   "source": [
    "##### 2.4.1 Comparing baby birthweight by category"
   ]
  },
  {
   "cell_type": "markdown",
   "metadata": {},
   "source": [
    "TODO: In one chart (look up arranging multiple plots on a page), produce boxplots showing btw against the various levels of the categorical variables.  There should be box plots for race, smoke, ht, ui"
   ]
  },
  {
   "cell_type": "markdown",
   "metadata": {},
   "source": [
    "**Comments**   \n",
    "TODO: Add comments on the box plot chart."
   ]
  },
  {
   "cell_type": "markdown",
   "metadata": {},
   "source": [
    "#### 2.5 Model Selection"
   ]
  },
  {
   "cell_type": "markdown",
   "metadata": {},
   "source": [
    "TODO: Model selection using some method learnt such as best subsets and/or validation set approach (test/train split).  See Lab 8 and Assignment 2 for inspiration."
   ]
  },
  {
   "cell_type": "code",
   "execution_count": null,
   "metadata": {},
   "outputs": [],
   "source": []
  },
  {
   "cell_type": "markdown",
   "metadata": {},
   "source": [
    "#### 2.6 Residual Plot Analysis"
   ]
  },
  {
   "cell_type": "markdown",
   "metadata": {},
   "source": [
    "TODO: Residual plots. Discuss whether residual assumptions are valid here.  \n",
    "  \n",
    "If necessary, re-fit model after transforming a variable, etc."
   ]
  },
  {
   "cell_type": "markdown",
   "metadata": {},
   "source": [
    "## 3. Conclusion"
   ]
  },
  {
   "cell_type": "markdown",
   "metadata": {},
   "source": [
    "!!! TO BE COMPLETED (last)  \n",
    "\n",
    "Should tie back to research question"
   ]
  }
 ],
 "metadata": {
  "kernelspec": {
   "display_name": "R",
   "language": "R",
   "name": "ir"
  },
  "language_info": {
   "codemirror_mode": "r",
   "file_extension": ".r",
   "mimetype": "text/x-r-source",
   "name": "R",
   "pygments_lexer": "r",
   "version": "3.6.3"
  }
 },
 "nbformat": 4,
 "nbformat_minor": 4
}
